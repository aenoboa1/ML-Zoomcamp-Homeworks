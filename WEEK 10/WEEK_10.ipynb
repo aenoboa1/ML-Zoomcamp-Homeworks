{
 "cells": [
  {
   "cell_type": "markdown",
   "metadata": {},
   "source": [
    "# Tensorflow Serving"
   ]
  },
  {
   "cell_type": "markdown",
   "metadata": {},
   "source": [
    "- Step 1. Load the model"
   ]
  },
  {
   "cell_type": "code",
   "execution_count": 1,
   "metadata": {},
   "outputs": [],
   "source": [
    "import tensorflow as tf\n",
    "from tensorflow import keras"
   ]
  },
  {
   "cell_type": "code",
   "execution_count": 2,
   "metadata": {},
   "outputs": [
    {
     "name": "stderr",
     "output_type": "stream",
     "text": [
      "2022-01-09 21:06:37.788386: I tensorflow/stream_executor/cuda/cuda_gpu_executor.cc:939] successful NUMA node read from SysFS had negative value (-1), but there must be at least one NUMA node, so returning NUMA node zero\n",
      "2022-01-09 21:06:37.863431: I tensorflow/stream_executor/cuda/cuda_gpu_executor.cc:939] successful NUMA node read from SysFS had negative value (-1), but there must be at least one NUMA node, so returning NUMA node zero\n",
      "2022-01-09 21:06:37.863624: I tensorflow/stream_executor/cuda/cuda_gpu_executor.cc:939] successful NUMA node read from SysFS had negative value (-1), but there must be at least one NUMA node, so returning NUMA node zero\n",
      "2022-01-09 21:06:37.865119: I tensorflow/core/platform/cpu_feature_guard.cc:151] This TensorFlow binary is optimized with oneAPI Deep Neural Network Library (oneDNN) to use the following CPU instructions in performance-critical operations:  AVX2 FMA\n",
      "To enable them in other operations, rebuild TensorFlow with the appropriate compiler flags.\n",
      "2022-01-09 21:06:37.865620: I tensorflow/stream_executor/cuda/cuda_gpu_executor.cc:939] successful NUMA node read from SysFS had negative value (-1), but there must be at least one NUMA node, so returning NUMA node zero\n",
      "2022-01-09 21:06:37.865776: I tensorflow/stream_executor/cuda/cuda_gpu_executor.cc:939] successful NUMA node read from SysFS had negative value (-1), but there must be at least one NUMA node, so returning NUMA node zero\n",
      "2022-01-09 21:06:37.866250: I tensorflow/stream_executor/cuda/cuda_gpu_executor.cc:939] successful NUMA node read from SysFS had negative value (-1), but there must be at least one NUMA node, so returning NUMA node zero\n",
      "2022-01-09 21:06:38.461577: I tensorflow/stream_executor/cuda/cuda_gpu_executor.cc:939] successful NUMA node read from SysFS had negative value (-1), but there must be at least one NUMA node, so returning NUMA node zero\n",
      "2022-01-09 21:06:38.461772: I tensorflow/stream_executor/cuda/cuda_gpu_executor.cc:939] successful NUMA node read from SysFS had negative value (-1), but there must be at least one NUMA node, so returning NUMA node zero\n",
      "2022-01-09 21:06:38.461915: I tensorflow/stream_executor/cuda/cuda_gpu_executor.cc:939] successful NUMA node read from SysFS had negative value (-1), but there must be at least one NUMA node, so returning NUMA node zero\n",
      "2022-01-09 21:06:38.462042: I tensorflow/core/common_runtime/gpu/gpu_device.cc:1525] Created device /job:localhost/replica:0/task:0/device:GPU:0 with 6393 MB memory:  -> device: 0, name: NVIDIA GeForce GTX 1080, pci bus id: 0000:01:00.0, compute capability: 6.1\n"
     ]
    }
   ],
   "source": [
    "model = keras.models.load_model('/home/elegant00/Dropbox/Ml_Zoomcamp/ML/ML-Zoomcamp-Homeworks/WEEK 9/model/clothing-model.h5')"
   ]
  },
  {
   "cell_type": "code",
   "execution_count": 24,
   "metadata": {},
   "outputs": [
    {
     "name": "stdout",
     "output_type": "stream",
     "text": [
      "INFO:tensorflow:Assets written to: clothing-model/assets\n"
     ]
    }
   ],
   "source": [
    "tf.saved_model.save(model,'clothing-model')"
   ]
  },
  {
   "cell_type": "code",
   "execution_count": 3,
   "metadata": {},
   "outputs": [
    {
     "name": "stdout",
     "output_type": "stream",
     "text": [
      "\u001b[01;34mclothing-model\u001b[00m\n",
      "├── \u001b[01;34massets\u001b[00m\n",
      "├── saved_model.pb\n",
      "└── \u001b[01;34mvariables\u001b[00m\n",
      "    ├── variables.data-00000-of-00001\n",
      "    └── variables.index\n",
      "\n",
      "2 directories, 3 files\n"
     ]
    }
   ],
   "source": [
    "!tree clothing-model"
   ]
  },
  {
   "cell_type": "code",
   "execution_count": 9,
   "metadata": {},
   "outputs": [
    {
     "name": "stdout",
     "output_type": "stream",
     "text": [
      "fish: Unknown command: saved_model_cli\n",
      "fish: \n",
      " saved_model_cli show --dir clothing-model --all\n",
      " ^\n"
     ]
    }
   ],
   "source": [
    "! saved_model_cli show --dir clothing-model --all"
   ]
  },
  {
   "cell_type": "markdown",
   "metadata": {},
   "source": [
    "## Mounting Docker volume:"
   ]
  },
  {
   "cell_type": "markdown",
   "metadata": {},
   "source": [
    "\n",
    "`docker run -it --rm \\\n",
    "    -p 8500:8500 \\\n",
    "    -v \"./\"`"
   ]
  },
  {
   "cell_type": "markdown",
   "metadata": {},
   "source": [
    "\n",
    "```console\n",
    "-v \"./clothing-model/models/clothing-model/1\" \n",
    "\n",
    "``` \n",
    " Volume mounting"
   ]
  },
  {
   "cell_type": "markdown",
   "metadata": {},
   "source": [
    "\n",
    "```console\n",
    "-e \"MODEL_NAME='clothing-model\" \\\n",
    "tensorflow/serving:2.7.0 \n",
    "```\n",
    "(Enviroment variable) - same name as folder "
   ]
  },
  {
   "cell_type": "markdown",
   "metadata": {},
   "source": [
    "Final command:"
   ]
  },
  {
   "cell_type": "markdown",
   "metadata": {},
   "source": [
    "```console\n",
    "\n",
    "docker run -it --rm \\                                         (py39)  Sun 09 Jan 2022 09:24:49 PM -05\n",
    "      -p 8500:8500 \\\n",
    "      -v \"/home/elegant00/Dropbox/Ml_Zoomcamp/ML/ML-Zoomcamp-Homeworks/WEEK 10/clothing-model:/models/clothing-model/1\" \\\n",
    "      -e MODEL_NAME=\"clothing-model\" \\\n",
    "      tensorflow/serving:2.7.0\n",
    "\n",
    "```"
   ]
  },
  {
   "cell_type": "markdown",
   "metadata": {},
   "source": [
    "### Tensorflow testing :"
   ]
  },
  {
   "cell_type": "code",
   "execution_count": 5,
   "metadata": {},
   "outputs": [
    {
     "name": "stdout",
     "output_type": "stream",
     "text": [
      "Collecting grpcio==1.42.0\n",
      "  Downloading grpcio-1.42.0-cp39-cp39-manylinux_2_17_x86_64.manylinux2014_x86_64.whl (4.0 MB)\n",
      "     |████████████████████████████████| 4.0 MB 752 kB/s            \n",
      "\u001b[?25hCollecting tensorflow-serving-api==2.7.0\n",
      "  Downloading tensorflow_serving_api-2.7.0-py2.py3-none-any.whl (37 kB)\n",
      "Requirement already satisfied: six>=1.5.2 in /home/elegant00/.local/lib/python3.9/site-packages (from grpcio==1.42.0) (1.15.0)\n",
      "Requirement already satisfied: tensorflow<3,>=2.7.0 in /home/elegant00/.conda/envs/py39/lib/python3.9/site-packages (from tensorflow-serving-api==2.7.0) (2.7.0)\n",
      "Requirement already satisfied: protobuf>=3.6.0 in /home/elegant00/.local/lib/python3.9/site-packages (from tensorflow-serving-api==2.7.0) (3.18.0)\n",
      "Requirement already satisfied: typing-extensions>=3.6.6 in /home/elegant00/.local/lib/python3.9/site-packages (from tensorflow<3,>=2.7.0->tensorflow-serving-api==2.7.0) (3.7.4.3)\n",
      "Requirement already satisfied: tensorboard~=2.6 in /home/elegant00/.local/lib/python3.9/site-packages (from tensorflow<3,>=2.7.0->tensorflow-serving-api==2.7.0) (2.6.0)\n",
      "Requirement already satisfied: termcolor>=1.1.0 in /home/elegant00/.local/lib/python3.9/site-packages (from tensorflow<3,>=2.7.0->tensorflow-serving-api==2.7.0) (1.1.0)\n",
      "Requirement already satisfied: tensorflow-estimator<2.8,~=2.7.0rc0 in /home/elegant00/.local/lib/python3.9/site-packages (from tensorflow<3,>=2.7.0->tensorflow-serving-api==2.7.0) (2.7.0)\n",
      "Requirement already satisfied: wrapt>=1.11.0 in /home/elegant00/.local/lib/python3.9/site-packages (from tensorflow<3,>=2.7.0->tensorflow-serving-api==2.7.0) (1.12.1)\n",
      "Requirement already satisfied: gast<0.5.0,>=0.2.1 in /home/elegant00/.local/lib/python3.9/site-packages (from tensorflow<3,>=2.7.0->tensorflow-serving-api==2.7.0) (0.4.0)\n",
      "Requirement already satisfied: wheel<1.0,>=0.32.0 in /home/elegant00/.local/lib/python3.9/site-packages (from tensorflow<3,>=2.7.0->tensorflow-serving-api==2.7.0) (0.37.0)\n",
      "Requirement already satisfied: astunparse>=1.6.0 in /home/elegant00/.local/lib/python3.9/site-packages (from tensorflow<3,>=2.7.0->tensorflow-serving-api==2.7.0) (1.6.3)\n",
      "Requirement already satisfied: google-pasta>=0.1.1 in /home/elegant00/.local/lib/python3.9/site-packages (from tensorflow<3,>=2.7.0->tensorflow-serving-api==2.7.0) (0.2.0)\n",
      "Requirement already satisfied: keras<2.8,>=2.7.0rc0 in /home/elegant00/.local/lib/python3.9/site-packages (from tensorflow<3,>=2.7.0->tensorflow-serving-api==2.7.0) (2.7.0)\n",
      "Requirement already satisfied: numpy>=1.14.5 in /home/elegant00/.local/lib/python3.9/site-packages (from tensorflow<3,>=2.7.0->tensorflow-serving-api==2.7.0) (1.19.5)\n",
      "Requirement already satisfied: opt-einsum>=2.3.2 in /home/elegant00/.local/lib/python3.9/site-packages (from tensorflow<3,>=2.7.0->tensorflow-serving-api==2.7.0) (3.3.0)\n",
      "Requirement already satisfied: libclang>=9.0.1 in /home/elegant00/.local/lib/python3.9/site-packages (from tensorflow<3,>=2.7.0->tensorflow-serving-api==2.7.0) (12.0.0)\n",
      "Requirement already satisfied: keras-preprocessing>=1.1.1 in /home/elegant00/.local/lib/python3.9/site-packages (from tensorflow<3,>=2.7.0->tensorflow-serving-api==2.7.0) (1.1.2)\n",
      "Requirement already satisfied: tensorflow-io-gcs-filesystem>=0.21.0 in /home/elegant00/.local/lib/python3.9/site-packages (from tensorflow<3,>=2.7.0->tensorflow-serving-api==2.7.0) (0.22.0)\n",
      "Requirement already satisfied: flatbuffers<3.0,>=1.12 in /home/elegant00/.local/lib/python3.9/site-packages (from tensorflow<3,>=2.7.0->tensorflow-serving-api==2.7.0) (1.12)\n",
      "Requirement already satisfied: h5py>=2.9.0 in /home/elegant00/.local/lib/python3.9/site-packages (from tensorflow<3,>=2.7.0->tensorflow-serving-api==2.7.0) (3.1.0)\n",
      "Requirement already satisfied: absl-py>=0.4.0 in /home/elegant00/.local/lib/python3.9/site-packages (from tensorflow<3,>=2.7.0->tensorflow-serving-api==2.7.0) (0.13.0)\n",
      "Requirement already satisfied: google-auth<2,>=1.6.3 in /home/elegant00/.local/lib/python3.9/site-packages (from tensorboard~=2.6->tensorflow<3,>=2.7.0->tensorflow-serving-api==2.7.0) (1.35.0)\n",
      "Requirement already satisfied: google-auth-oauthlib<0.5,>=0.4.1 in /home/elegant00/.local/lib/python3.9/site-packages (from tensorboard~=2.6->tensorflow<3,>=2.7.0->tensorflow-serving-api==2.7.0) (0.4.6)\n",
      "Requirement already satisfied: setuptools>=41.0.0 in /home/elegant00/.conda/envs/py39/lib/python3.9/site-packages (from tensorboard~=2.6->tensorflow<3,>=2.7.0->tensorflow-serving-api==2.7.0) (58.0.4)\n",
      "Requirement already satisfied: tensorboard-plugin-wit>=1.6.0 in /home/elegant00/.local/lib/python3.9/site-packages (from tensorboard~=2.6->tensorflow<3,>=2.7.0->tensorflow-serving-api==2.7.0) (1.8.0)\n",
      "Requirement already satisfied: tensorboard-data-server<0.7.0,>=0.6.0 in /home/elegant00/.local/lib/python3.9/site-packages (from tensorboard~=2.6->tensorflow<3,>=2.7.0->tensorflow-serving-api==2.7.0) (0.6.1)\n",
      "Requirement already satisfied: werkzeug>=0.11.15 in /home/elegant00/.local/lib/python3.9/site-packages (from tensorboard~=2.6->tensorflow<3,>=2.7.0->tensorflow-serving-api==2.7.0) (2.0.1)\n",
      "Requirement already satisfied: requests<3,>=2.21.0 in /home/elegant00/.conda/envs/py39/lib/python3.9/site-packages (from tensorboard~=2.6->tensorflow<3,>=2.7.0->tensorflow-serving-api==2.7.0) (2.27.1)\n",
      "Requirement already satisfied: markdown>=2.6.8 in /home/elegant00/.conda/envs/py39/lib/python3.9/site-packages (from tensorboard~=2.6->tensorflow<3,>=2.7.0->tensorflow-serving-api==2.7.0) (3.3.6)\n",
      "Requirement already satisfied: pyasn1-modules>=0.2.1 in /home/elegant00/.local/lib/python3.9/site-packages (from google-auth<2,>=1.6.3->tensorboard~=2.6->tensorflow<3,>=2.7.0->tensorflow-serving-api==2.7.0) (0.2.8)\n",
      "Requirement already satisfied: rsa<5,>=3.1.4 in /home/elegant00/.local/lib/python3.9/site-packages (from google-auth<2,>=1.6.3->tensorboard~=2.6->tensorflow<3,>=2.7.0->tensorflow-serving-api==2.7.0) (4.7.2)\n",
      "Requirement already satisfied: cachetools<5.0,>=2.0.0 in /home/elegant00/.local/lib/python3.9/site-packages (from google-auth<2,>=1.6.3->tensorboard~=2.6->tensorflow<3,>=2.7.0->tensorflow-serving-api==2.7.0) (4.2.2)\n",
      "Requirement already satisfied: requests-oauthlib>=0.7.0 in /home/elegant00/.local/lib/python3.9/site-packages (from google-auth-oauthlib<0.5,>=0.4.1->tensorboard~=2.6->tensorflow<3,>=2.7.0->tensorflow-serving-api==2.7.0) (1.3.0)\n",
      "Requirement already satisfied: importlib-metadata>=4.4 in /home/elegant00/.conda/envs/py39/lib/python3.9/site-packages (from markdown>=2.6.8->tensorboard~=2.6->tensorflow<3,>=2.7.0->tensorflow-serving-api==2.7.0) (4.10.0)\n",
      "Requirement already satisfied: idna<4,>=2.5 in /home/elegant00/.conda/envs/py39/lib/python3.9/site-packages (from requests<3,>=2.21.0->tensorboard~=2.6->tensorflow<3,>=2.7.0->tensorflow-serving-api==2.7.0) (3.3)\n",
      "Requirement already satisfied: charset-normalizer~=2.0.0 in /home/elegant00/.conda/envs/py39/lib/python3.9/site-packages (from requests<3,>=2.21.0->tensorboard~=2.6->tensorflow<3,>=2.7.0->tensorflow-serving-api==2.7.0) (2.0.10)\n",
      "Requirement already satisfied: urllib3<1.27,>=1.21.1 in /home/elegant00/.conda/envs/py39/lib/python3.9/site-packages (from requests<3,>=2.21.0->tensorboard~=2.6->tensorflow<3,>=2.7.0->tensorflow-serving-api==2.7.0) (1.26.8)\n",
      "Requirement already satisfied: certifi>=2017.4.17 in /home/elegant00/.conda/envs/py39/lib/python3.9/site-packages (from requests<3,>=2.21.0->tensorboard~=2.6->tensorflow<3,>=2.7.0->tensorflow-serving-api==2.7.0) (2021.10.8)\n",
      "Requirement already satisfied: zipp>=0.5 in /home/elegant00/.conda/envs/py39/lib/python3.9/site-packages (from importlib-metadata>=4.4->markdown>=2.6.8->tensorboard~=2.6->tensorflow<3,>=2.7.0->tensorflow-serving-api==2.7.0) (3.7.0)\n",
      "Requirement already satisfied: pyasn1<0.5.0,>=0.4.6 in /home/elegant00/.local/lib/python3.9/site-packages (from pyasn1-modules>=0.2.1->google-auth<2,>=1.6.3->tensorboard~=2.6->tensorflow<3,>=2.7.0->tensorflow-serving-api==2.7.0) (0.4.8)\n",
      "Requirement already satisfied: oauthlib>=3.0.0 in /home/elegant00/.local/lib/python3.9/site-packages (from requests-oauthlib>=0.7.0->google-auth-oauthlib<0.5,>=0.4.1->tensorboard~=2.6->tensorflow<3,>=2.7.0->tensorflow-serving-api==2.7.0) (3.1.1)\n",
      "Installing collected packages: grpcio, tensorflow-serving-api\n",
      "  Attempting uninstall: grpcio\n",
      "    Found existing installation: grpcio 1.40.0\n",
      "    Uninstalling grpcio-1.40.0:\n",
      "      Successfully uninstalled grpcio-1.40.0\n",
      "Successfully installed grpcio-1.42.0 tensorflow-serving-api-2.7.0\n",
      "Note: you may need to restart the kernel to use updated packages.\n"
     ]
    }
   ],
   "source": [
    "%pip install grpcio==1.42.0 tensorflow-serving-api==2.7.0"
   ]
  },
  {
   "cell_type": "code",
   "execution_count": 11,
   "metadata": {},
   "outputs": [
    {
     "name": "stdout",
     "output_type": "stream",
     "text": [
      "Requirement already satisfied: keras-image-helper in /home/elegant00/.local/lib/python3.9/site-packages (0.0.1)\n",
      "Collecting pillow\n",
      "  Downloading Pillow-9.0.0-cp39-cp39-manylinux_2_17_x86_64.manylinux2014_x86_64.whl (4.3 MB)\n",
      "     |████████████████████████████████| 4.3 MB 753 kB/s            \n",
      "\u001b[?25hRequirement already satisfied: numpy in /home/elegant00/.local/lib/python3.9/site-packages (from keras-image-helper) (1.19.5)\n",
      "Installing collected packages: pillow\n",
      "\u001b[31mERROR: pip's dependency resolver does not currently take into account all the packages that are installed. This behaviour is the source of the following dependency conflicts.\n",
      "matplotlib 3.4.3 requires pyparsing>=2.2.1, which is not installed.\u001b[0m\n",
      "Successfully installed pillow-9.0.0\n",
      "Note: you may need to restart the kernel to use updated packages.\n"
     ]
    }
   ],
   "source": [
    "%pip install keras-image-helper"
   ]
  },
  {
   "cell_type": "code",
   "execution_count": 19,
   "metadata": {},
   "outputs": [],
   "source": [
    "import grpc\n",
    "import tensorflow as tf\n",
    "\n",
    "from tensorflow_serving.apis import predict_pb2\n",
    "from tensorflow_serving.apis import prediction_service_pb2_grpc\n"
   ]
  },
  {
   "cell_type": "code",
   "execution_count": 20,
   "metadata": {},
   "outputs": [],
   "source": [
    "host='localhost:8500'\n",
    "\n",
    "#Create local channel\n",
    "channel = grpc.insecure_channel(host)\n",
    "# use the channel to connect to the prediction service\n",
    "\n",
    "stub = prediction_service_pb2_grpc.PredictionServiceStub(channel)\n"
   ]
  },
  {
   "cell_type": "code",
   "execution_count": 21,
   "metadata": {},
   "outputs": [],
   "source": [
    "from keras_image_helper import create_preprocessor"
   ]
  },
  {
   "cell_type": "code",
   "execution_count": 24,
   "metadata": {},
   "outputs": [],
   "source": [
    "preprocessor = create_preprocessor('xception',target_size=(299, 299))"
   ]
  },
  {
   "cell_type": "code",
   "execution_count": 23,
   "metadata": {},
   "outputs": [],
   "source": [
    "url = 'http://bit.ly/mlbookcamp-pants'"
   ]
  },
  {
   "cell_type": "code",
   "execution_count": 37,
   "metadata": {},
   "outputs": [],
   "source": [
    "X = preprocessor.from_url(url)"
   ]
  },
  {
   "cell_type": "markdown",
   "metadata": {},
   "source": [
    "- Prepare request(Protobuff)"
   ]
  },
  {
   "cell_type": "markdown",
   "metadata": {},
   "source": [
    "- Turn Numpy array into protobuff"
   ]
  },
  {
   "cell_type": "code",
   "execution_count": 44,
   "metadata": {},
   "outputs": [],
   "source": [
    "def np_to_protobuf(data):\n",
    "    return tf.make_tensor_proto(data,shape=data.shape)"
   ]
  },
  {
   "cell_type": "code",
   "execution_count": 50,
   "metadata": {},
   "outputs": [],
   "source": [
    "%%capture\n",
    "np_to_protobuf(X)"
   ]
  },
  {
   "cell_type": "code",
   "execution_count": 51,
   "metadata": {},
   "outputs": [],
   "source": [
    "pb_request = predict_pb2.PredictRequest()\n",
    "\n",
    "pb_request.model_spec.name = 'clothing-model'\n",
    "\n",
    "pb_request.model_spec.signature_name='serving_default'\n",
    "\n",
    "\n",
    "pb_request.inputs['input_8'].CopyFrom(np_to_protobuf(X))"
   ]
  },
  {
   "cell_type": "code",
   "execution_count": 52,
   "metadata": {},
   "outputs": [],
   "source": [
    "pb_response = stub.Predict(pb_request,timeout=20.0)"
   ]
  },
  {
   "cell_type": "code",
   "execution_count": 53,
   "metadata": {},
   "outputs": [
    {
     "data": {
      "text/plain": [
       "outputs {\n",
       "  key: \"dense_7\"\n",
       "  value {\n",
       "    dtype: DT_FLOAT\n",
       "    tensor_shape {\n",
       "      dim {\n",
       "        size: 1\n",
       "      }\n",
       "      dim {\n",
       "        size: 10\n",
       "      }\n",
       "    }\n",
       "    float_val: -1.87986421585083\n",
       "    float_val: -4.75631046295166\n",
       "    float_val: -2.359531879425049\n",
       "    float_val: -1.08926522731781\n",
       "    float_val: 9.903782844543457\n",
       "    float_val: -2.826179027557373\n",
       "    float_val: -3.648310422897339\n",
       "    float_val: 3.241154909133911\n",
       "    float_val: -2.612096071243286\n",
       "    float_val: -4.852035045623779\n",
       "  }\n",
       "}\n",
       "model_spec {\n",
       "  name: \"clothing-model\"\n",
       "  version {\n",
       "    value: 1\n",
       "  }\n",
       "  signature_name: \"serving_default\"\n",
       "}"
      ]
     },
     "execution_count": 53,
     "metadata": {},
     "output_type": "execute_result"
    }
   ],
   "source": [
    "pb_response"
   ]
  },
  {
   "cell_type": "code",
   "execution_count": 56,
   "metadata": {},
   "outputs": [
    {
     "data": {
      "text/plain": [
       "[-1.87986421585083, -4.75631046295166, -2.359531879425049, -1.08926522731781, 9.903782844543457, -2.826179027557373, -3.648310422897339, 3.241154909133911, -2.612096071243286, -4.852035045623779]"
      ]
     },
     "execution_count": 56,
     "metadata": {},
     "output_type": "execute_result"
    }
   ],
   "source": [
    "preds = pb_response.outputs['dense_7'].float_val\n",
    "preds"
   ]
  },
  {
   "cell_type": "code",
   "execution_count": 57,
   "metadata": {},
   "outputs": [],
   "source": [
    "classes = [\n",
    "    'dress',\n",
    "    'hat',\n",
    "    'longsleeve',\n",
    "    'outwear',\n",
    "    'pants',\n",
    "    'shirt',\n",
    "    'shoes',\n",
    "    'shorts',\n",
    "    'skirt',\n",
    "    't-shirt'\n",
    "]"
   ]
  },
  {
   "cell_type": "code",
   "execution_count": 58,
   "metadata": {},
   "outputs": [
    {
     "data": {
      "text/plain": [
       "{'dress': -1.87986421585083,\n",
       " 'hat': -4.75631046295166,\n",
       " 'longsleeve': -2.359531879425049,\n",
       " 'outwear': -1.08926522731781,\n",
       " 'pants': 9.903782844543457,\n",
       " 'shirt': -2.826179027557373,\n",
       " 'shoes': -3.648310422897339,\n",
       " 'shorts': 3.241154909133911,\n",
       " 'skirt': -2.612096071243286,\n",
       " 't-shirt': -4.852035045623779}"
      ]
     },
     "execution_count": 58,
     "metadata": {},
     "output_type": "execute_result"
    }
   ],
   "source": [
    "dict(zip(classes,preds))"
   ]
  },
  {
   "cell_type": "markdown",
   "metadata": {},
   "source": [
    "- Next : Turning it into a Flask app"
   ]
  },
  {
   "cell_type": "markdown",
   "metadata": {},
   "source": [
    "### ML Zoomcamp 10.3 - Creating a Pre-Processing Service\n"
   ]
  }
 ],
 "metadata": {
  "interpreter": {
   "hash": "767d51c1340bd893661ea55ea3124f6de3c7a262a8b4abca0554b478b1e2ff90"
  },
  "kernelspec": {
   "display_name": "Python 3.10.1 64-bit",
   "language": "python",
   "name": "python3"
  },
  "language_info": {
   "codemirror_mode": {
    "name": "ipython",
    "version": 3
   },
   "file_extension": ".py",
   "mimetype": "text/x-python",
   "name": "python",
   "nbconvert_exporter": "python",
   "pygments_lexer": "ipython3",
   "version": "3.9.7"
  },
  "orig_nbformat": 4
 },
 "nbformat": 4,
 "nbformat_minor": 2
}
