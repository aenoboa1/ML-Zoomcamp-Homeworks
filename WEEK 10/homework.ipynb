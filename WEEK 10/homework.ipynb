{
 "cells": [
  {
   "cell_type": "markdown",
   "metadata": {},
   "source": [
    "# 10.11 Homework\n",
    "\n",
    "In this homework, we'll deploy the churn preduction model from session 5.\n",
    "We already have a docker image for this model - we'll use it for \n",
    "deploying the model to Kubernetes.\n",
    "\n",
    "\n",
    "## Bulding the image\n",
    "\n",
    "Clone the course repo if you haven't:\n",
    "\n"
   ]
  },
  {
   "cell_type": "code",
   "execution_count": 1,
   "metadata": {},
   "outputs": [
    {
     "name": "stdout",
     "output_type": "stream",
     "text": [
      "Cloning into 'mlbookcamp-code'...\n",
      "remote: Enumerating objects: 2222, done.\u001b[K\n",
      "remote: Counting objects: 100% (1228/1228), done.\u001b[K\n",
      "remote: Compressing objects: 100% (465/465), done.\u001b[K\n",
      "remote: Total 2222 (delta 873), reused 987 (delta 733), pack-reused 994\u001b[K\n",
      "Receiving objects: 100% (2222/2222), 7.20 MiB | 6.47 MiB/s, done.\n",
      "Resolving deltas: 100% (1326/1326), done.\n"
     ]
    }
   ],
   "source": [
    "!git clone https://github.com/alexeygrigorev/mlbookcamp-code.git\n"
   ]
  },
  {
   "cell_type": "markdown",
   "metadata": {},
   "source": [
    "\n",
    "Go to the `course-zoomcamp/05-deployment/code` folder and \n",
    "execute the following:\n",
    "\n",
    "\n",
    "```bash\n",
    "docker build -t churn-model:v001 .\n",
    "```\n"
   ]
  },
  {
   "cell_type": "markdown",
   "metadata": {},
   "source": [
    "\n",
    "\n",
    "> **Note:** If you have troubles building the image, you can \n",
    "> use the image I built and published to docker hub:\n",
    "> `agrigorev/zoomcamp-model:churn-v001`\n",
    "\n",
    "Run it to test that it's working locally:\n",
    "\n",
    "```bash\n",
    "docker run -it --rm -p 9696:9696 churn-model:v001\n",
    "```\n",
    "\n",
    "And in another terminal, execute `predict-test.py` file:\n",
    "\n",
    "```bash\n",
    "python predict-test.py\n",
    "```"
   ]
  },
  {
   "cell_type": "markdown",
   "metadata": {},
   "source": [
    "Running predict-test.py:"
   ]
  },
  {
   "cell_type": "code",
   "execution_count": 14,
   "metadata": {},
   "outputs": [
    {
     "name": "stdout",
     "output_type": "stream",
     "text": [
      "{'churn': False, 'churn_probability': 0.3257561103397851}\n",
      "not sending promo email to xyz-123\n"
     ]
    }
   ],
   "source": [
    "! python \"/home/elegant00/Dropbox/Ml_Zoomcamp/ML/ML-Zoomcamp-Homeworks/WEEK 10/mlbookcamp-code/course-zoomcamp/05-deployment/code/predict-test.py\"\n"
   ]
  },
  {
   "cell_type": "markdown",
   "metadata": {},
   "source": [
    "Installing kubectl and kind\n"
   ]
  },
  {
   "cell_type": "markdown",
   "metadata": {},
   "source": [
    "\n",
    "## Quesion 1: Version of kind\n",
    "\n",
    "What's the version of `kind` that you have? \n",
    "\n",
    "Use `kind --version` to find out."
   ]
  },
  {
   "cell_type": "code",
   "execution_count": 7,
   "metadata": {},
   "outputs": [
    {
     "name": "stdout",
     "output_type": "stream",
     "text": [
      "kind version 0.11.1\n"
     ]
    }
   ],
   "source": [
    "!kind --version"
   ]
  },
  {
   "cell_type": "markdown",
   "metadata": {},
   "source": [
    "# Question 2\n"
   ]
  },
  {
   "cell_type": "code",
   "execution_count": 8,
   "metadata": {},
   "outputs": [
    {
     "name": "stdout",
     "output_type": "stream",
     "text": [
      "NAME         TYPE        CLUSTER-IP   EXTERNAL-IP   PORT(S)   AGE\n",
      "kubernetes   ClusterIP   10.96.0.1    <none>        443/TCP   2m5s\n"
     ]
    }
   ],
   "source": [
    "!kubectl get service\n"
   ]
  },
  {
   "cell_type": "markdown",
   "metadata": {},
   "source": [
    "# Question 3: Uploading the image to kind\n"
   ]
  },
  {
   "cell_type": "markdown",
   "metadata": {},
   "source": [
    "To be able to use the docker image we previously created (churn-model:v001), we need to register it with kind.\n",
    "\n",
    "What's the command we need to run for that?\n",
    "\n"
   ]
  },
  {
   "cell_type": "code",
   "execution_count": 9,
   "metadata": {},
   "outputs": [
    {
     "name": "stdout",
     "output_type": "stream",
     "text": [
      "Image: \"churn-model:v001\" with ID \"sha256:9cde0c4d564d44713cec545679d0cef53d780b755269e731b88ed16132eeaa7b\" not yet present on node \"kind-control-plane\", loading...\n"
     ]
    }
   ],
   "source": [
    "!kind load docker-image churn-model:v001"
   ]
  },
  {
   "cell_type": "markdown",
   "metadata": {},
   "source": [
    "\n",
    "\n",
    "## Question 4: Creating a deployment\n",
    "\n",
    "Now let's create a deployment (e.g. `deployment.yaml`):\n",
    "\n",
    "```yaml\n",
    "apiVersion: apps/v1\n",
    "kind: Deployment\n",
    "metadata:\n",
    "  name: churn\n",
    "spec:\n",
    "  selector:\n",
    "    matchLabels:\n",
    "      app: churn\n",
    "  template:\n",
    "    metadata:\n",
    "      labels:\n",
    "        app: churn\n",
    "    spec:\n",
    "      containers:\n",
    "      - name: churn\n",
    "        image: <Image>\n",
    "        resources:\n",
    "          limits:\n",
    "            memory: \"128Mi\"\n",
    "            cpu: \"500m\"\n",
    "        ports:\n",
    "        - containerPort: <Port>\n",
    "```\n",
    "\n",
    "Replace `<Image>` and `<Port>` with the correct values.\n",
    "\n",
    "What is the value for `<Port>`?"
   ]
  },
  {
   "cell_type": "markdown",
   "metadata": {},
   "source": [
    "Answer: It should be 9696"
   ]
  },
  {
   "cell_type": "markdown",
   "metadata": {},
   "source": [
    "# Question 5: Pod name\n",
    "Apply this deployment:\n",
    "\n"
   ]
  },
  {
   "cell_type": "code",
   "execution_count": 17,
   "metadata": {},
   "outputs": [
    {
     "data": {
      "text/plain": [
       "['NAME                     READY   STATUS    RESTARTS   AGE',\n",
       " 'churn-8449c67c88-2625s   1/1     Running   0          30s']"
      ]
     },
     "execution_count": 17,
     "metadata": {},
     "output_type": "execute_result"
    }
   ],
   "source": [
    "!!kubectl get pod "
   ]
  },
  {
   "cell_type": "markdown",
   "metadata": {},
   "source": [
    "<b> Answer: </b> churn-8449c67c88-2625s"
   ]
  },
  {
   "cell_type": "markdown",
   "metadata": {},
   "source": [
    "\n",
    "## Question 6: Creating a service \n",
    "\n",
    "Let's create a service for this deployment (`service.yaml`):\n",
    "\n",
    "```yaml\n",
    "apiVersion: v1\n",
    "kind: Service\n",
    "metadata:\n",
    "  name: <Service name>\n",
    "spec:\n",
    "  type: LoadBalancer\n",
    "  selector:\n",
    "    app: <???>\n",
    "  ports:\n",
    "  - port: 80\n",
    "    targetPort: <PORT>\n",
    "```\n",
    "\n",
    "Fill it in. What do we need to write instead of `<???>`?\n"
   ]
  },
  {
   "cell_type": "markdown",
   "metadata": {},
   "source": [
    "<b> Answer: </b> churn"
   ]
  },
  {
   "cell_type": "code",
   "execution_count": 22,
   "metadata": {},
   "outputs": [
    {
     "name": "stdout",
     "output_type": "stream",
     "text": [
      "Forwarding from 127.0.0.1:9696 -> 9696\n",
      "Forwarding from [::1]:9696 -> 9696\n",
      "Handling connection for 9696\n",
      "^C\n"
     ]
    }
   ],
   "source": [
    "!kubectl port-forward service/churn-service 9696:80\n"
   ]
  },
  {
   "cell_type": "code",
   "execution_count": 23,
   "metadata": {},
   "outputs": [
    {
     "name": "stdout",
     "output_type": "stream",
     "text": [
      "{'churn': False, 'churn_probability': 0.3257561103403336}\n",
      "not sending promo email to xyz-123\n"
     ]
    }
   ],
   "source": [
    "!python \"/home/elegant00/Dropbox/Ml_Zoomcamp/ML/ML-Zoomcamp-Homeworks/WEEK 10/mlbookcamp-code/course-zoomcamp/05-deployment/code/predict-test.py\"\n",
    "\n"
   ]
  }
 ],
 "metadata": {
  "interpreter": {
   "hash": "af2080e08cdc170f39652bb5f4e08f041ca0daf49636b7c505f1a046a9a08c52"
  },
  "kernelspec": {
   "display_name": "Python 3.9.7 64-bit ('py39': conda)",
   "language": "python",
   "name": "python3"
  },
  "language_info": {
   "codemirror_mode": {
    "name": "ipython",
    "version": 3
   },
   "file_extension": ".py",
   "mimetype": "text/x-python",
   "name": "python",
   "nbconvert_exporter": "python",
   "pygments_lexer": "ipython3",
   "version": "3.9.7"
  },
  "orig_nbformat": 4
 },
 "nbformat": 4,
 "nbformat_minor": 2
}
