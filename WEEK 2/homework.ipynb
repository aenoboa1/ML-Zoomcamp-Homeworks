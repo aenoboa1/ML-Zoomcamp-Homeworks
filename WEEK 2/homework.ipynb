{
 "cells": [
  {
   "cell_type": "markdown",
   "source": [
    "<h1> Homework </h1>"
   ],
   "metadata": {}
  },
  {
   "cell_type": "code",
   "execution_count": 2,
   "source": [
    "import pandas as pd\r\n",
    "import numpy as np\r\n",
    "import wget\r\n",
    "import seaborn as sns\r\n",
    "from matplotlib import pyplot as plt\r\n",
    "%matplotlib inline\r\n",
    "\r\n",
    "AB_NYC_2019 = 'https://raw.githubusercontent.com/alexeygrigorev/datasets/master/AB_NYC_2019.csv'\r\n",
    "\r\n",
    "\r\n",
    "df = pd.read_csv('AB_NYC_2019.csv')\r\n",
    "\r\n",
    "\r\n"
   ],
   "outputs": [],
   "metadata": {}
  },
  {
   "cell_type": "code",
   "execution_count": 3,
   "source": [
    "df.head()"
   ],
   "outputs": [
    {
     "output_type": "execute_result",
     "data": {
      "text/html": [
       "<div>\n",
       "<style scoped>\n",
       "    .dataframe tbody tr th:only-of-type {\n",
       "        vertical-align: middle;\n",
       "    }\n",
       "\n",
       "    .dataframe tbody tr th {\n",
       "        vertical-align: top;\n",
       "    }\n",
       "\n",
       "    .dataframe thead th {\n",
       "        text-align: right;\n",
       "    }\n",
       "</style>\n",
       "<table border=\"1\" class=\"dataframe\">\n",
       "  <thead>\n",
       "    <tr style=\"text-align: right;\">\n",
       "      <th></th>\n",
       "      <th>id</th>\n",
       "      <th>name</th>\n",
       "      <th>host_id</th>\n",
       "      <th>host_name</th>\n",
       "      <th>neighbourhood_group</th>\n",
       "      <th>neighbourhood</th>\n",
       "      <th>latitude</th>\n",
       "      <th>longitude</th>\n",
       "      <th>room_type</th>\n",
       "      <th>price</th>\n",
       "      <th>minimum_nights</th>\n",
       "      <th>number_of_reviews</th>\n",
       "      <th>last_review</th>\n",
       "      <th>reviews_per_month</th>\n",
       "      <th>calculated_host_listings_count</th>\n",
       "      <th>availability_365</th>\n",
       "    </tr>\n",
       "  </thead>\n",
       "  <tbody>\n",
       "    <tr>\n",
       "      <th>0</th>\n",
       "      <td>2539</td>\n",
       "      <td>Clean &amp; quiet apt home by the park</td>\n",
       "      <td>2787</td>\n",
       "      <td>John</td>\n",
       "      <td>Brooklyn</td>\n",
       "      <td>Kensington</td>\n",
       "      <td>40.64749</td>\n",
       "      <td>-73.97237</td>\n",
       "      <td>Private room</td>\n",
       "      <td>149</td>\n",
       "      <td>1</td>\n",
       "      <td>9</td>\n",
       "      <td>2018-10-19</td>\n",
       "      <td>0.21</td>\n",
       "      <td>6</td>\n",
       "      <td>365</td>\n",
       "    </tr>\n",
       "    <tr>\n",
       "      <th>1</th>\n",
       "      <td>2595</td>\n",
       "      <td>Skylit Midtown Castle</td>\n",
       "      <td>2845</td>\n",
       "      <td>Jennifer</td>\n",
       "      <td>Manhattan</td>\n",
       "      <td>Midtown</td>\n",
       "      <td>40.75362</td>\n",
       "      <td>-73.98377</td>\n",
       "      <td>Entire home/apt</td>\n",
       "      <td>225</td>\n",
       "      <td>1</td>\n",
       "      <td>45</td>\n",
       "      <td>2019-05-21</td>\n",
       "      <td>0.38</td>\n",
       "      <td>2</td>\n",
       "      <td>355</td>\n",
       "    </tr>\n",
       "    <tr>\n",
       "      <th>2</th>\n",
       "      <td>3647</td>\n",
       "      <td>THE VILLAGE OF HARLEM....NEW YORK !</td>\n",
       "      <td>4632</td>\n",
       "      <td>Elisabeth</td>\n",
       "      <td>Manhattan</td>\n",
       "      <td>Harlem</td>\n",
       "      <td>40.80902</td>\n",
       "      <td>-73.94190</td>\n",
       "      <td>Private room</td>\n",
       "      <td>150</td>\n",
       "      <td>3</td>\n",
       "      <td>0</td>\n",
       "      <td>NaN</td>\n",
       "      <td>NaN</td>\n",
       "      <td>1</td>\n",
       "      <td>365</td>\n",
       "    </tr>\n",
       "    <tr>\n",
       "      <th>3</th>\n",
       "      <td>3831</td>\n",
       "      <td>Cozy Entire Floor of Brownstone</td>\n",
       "      <td>4869</td>\n",
       "      <td>LisaRoxanne</td>\n",
       "      <td>Brooklyn</td>\n",
       "      <td>Clinton Hill</td>\n",
       "      <td>40.68514</td>\n",
       "      <td>-73.95976</td>\n",
       "      <td>Entire home/apt</td>\n",
       "      <td>89</td>\n",
       "      <td>1</td>\n",
       "      <td>270</td>\n",
       "      <td>2019-07-05</td>\n",
       "      <td>4.64</td>\n",
       "      <td>1</td>\n",
       "      <td>194</td>\n",
       "    </tr>\n",
       "    <tr>\n",
       "      <th>4</th>\n",
       "      <td>5022</td>\n",
       "      <td>Entire Apt: Spacious Studio/Loft by central park</td>\n",
       "      <td>7192</td>\n",
       "      <td>Laura</td>\n",
       "      <td>Manhattan</td>\n",
       "      <td>East Harlem</td>\n",
       "      <td>40.79851</td>\n",
       "      <td>-73.94399</td>\n",
       "      <td>Entire home/apt</td>\n",
       "      <td>80</td>\n",
       "      <td>10</td>\n",
       "      <td>9</td>\n",
       "      <td>2018-11-19</td>\n",
       "      <td>0.10</td>\n",
       "      <td>1</td>\n",
       "      <td>0</td>\n",
       "    </tr>\n",
       "  </tbody>\n",
       "</table>\n",
       "</div>"
      ],
      "text/plain": [
       "     id                                              name  host_id  \\\n",
       "0  2539                Clean & quiet apt home by the park     2787   \n",
       "1  2595                             Skylit Midtown Castle     2845   \n",
       "2  3647               THE VILLAGE OF HARLEM....NEW YORK !     4632   \n",
       "3  3831                   Cozy Entire Floor of Brownstone     4869   \n",
       "4  5022  Entire Apt: Spacious Studio/Loft by central park     7192   \n",
       "\n",
       "     host_name neighbourhood_group neighbourhood  latitude  longitude  \\\n",
       "0         John            Brooklyn    Kensington  40.64749  -73.97237   \n",
       "1     Jennifer           Manhattan       Midtown  40.75362  -73.98377   \n",
       "2    Elisabeth           Manhattan        Harlem  40.80902  -73.94190   \n",
       "3  LisaRoxanne            Brooklyn  Clinton Hill  40.68514  -73.95976   \n",
       "4        Laura           Manhattan   East Harlem  40.79851  -73.94399   \n",
       "\n",
       "         room_type  price  minimum_nights  number_of_reviews last_review  \\\n",
       "0     Private room    149               1                  9  2018-10-19   \n",
       "1  Entire home/apt    225               1                 45  2019-05-21   \n",
       "2     Private room    150               3                  0         NaN   \n",
       "3  Entire home/apt     89               1                270  2019-07-05   \n",
       "4  Entire home/apt     80              10                  9  2018-11-19   \n",
       "\n",
       "   reviews_per_month  calculated_host_listings_count  availability_365  \n",
       "0               0.21                               6               365  \n",
       "1               0.38                               2               355  \n",
       "2                NaN                               1               365  \n",
       "3               4.64                               1               194  \n",
       "4               0.10                               1                 0  "
      ]
     },
     "metadata": {},
     "execution_count": 3
    }
   ],
   "metadata": {}
  },
  {
   "cell_type": "markdown",
   "source": [
    "<h1> Baseline  </h1>\r\n"
   ],
   "metadata": {}
  },
  {
   "cell_type": "code",
   "execution_count": 4,
   "source": [
    "base = ['latitude',\r\n",
    "'longitude',\r\n",
    "'minimum_nights',\r\n",
    "'number_of_reviews',\r\n",
    "'reviews_per_month',\r\n",
    "'calculated_host_listings_count',\r\n",
    "'availability_365']\r\n"
   ],
   "outputs": [],
   "metadata": {}
  },
  {
   "cell_type": "code",
   "execution_count": 5,
   "source": [
    "\r\n",
    "null_columns=df[base].columns[df[base].isnull().any()]\r\n",
    "df[null_columns].isnull().sum()"
   ],
   "outputs": [
    {
     "output_type": "execute_result",
     "data": {
      "text/plain": [
       "reviews_per_month    10052\n",
       "dtype: int64"
      ]
     },
     "metadata": {},
     "execution_count": 5
    }
   ],
   "metadata": {}
  },
  {
   "cell_type": "code",
   "execution_count": 6,
   "source": [
    "df[base]"
   ],
   "outputs": [
    {
     "output_type": "execute_result",
     "data": {
      "text/html": [
       "<div>\n",
       "<style scoped>\n",
       "    .dataframe tbody tr th:only-of-type {\n",
       "        vertical-align: middle;\n",
       "    }\n",
       "\n",
       "    .dataframe tbody tr th {\n",
       "        vertical-align: top;\n",
       "    }\n",
       "\n",
       "    .dataframe thead th {\n",
       "        text-align: right;\n",
       "    }\n",
       "</style>\n",
       "<table border=\"1\" class=\"dataframe\">\n",
       "  <thead>\n",
       "    <tr style=\"text-align: right;\">\n",
       "      <th></th>\n",
       "      <th>latitude</th>\n",
       "      <th>longitude</th>\n",
       "      <th>minimum_nights</th>\n",
       "      <th>number_of_reviews</th>\n",
       "      <th>reviews_per_month</th>\n",
       "      <th>calculated_host_listings_count</th>\n",
       "      <th>availability_365</th>\n",
       "    </tr>\n",
       "  </thead>\n",
       "  <tbody>\n",
       "    <tr>\n",
       "      <th>0</th>\n",
       "      <td>40.64749</td>\n",
       "      <td>-73.97237</td>\n",
       "      <td>1</td>\n",
       "      <td>9</td>\n",
       "      <td>0.21</td>\n",
       "      <td>6</td>\n",
       "      <td>365</td>\n",
       "    </tr>\n",
       "    <tr>\n",
       "      <th>1</th>\n",
       "      <td>40.75362</td>\n",
       "      <td>-73.98377</td>\n",
       "      <td>1</td>\n",
       "      <td>45</td>\n",
       "      <td>0.38</td>\n",
       "      <td>2</td>\n",
       "      <td>355</td>\n",
       "    </tr>\n",
       "    <tr>\n",
       "      <th>2</th>\n",
       "      <td>40.80902</td>\n",
       "      <td>-73.94190</td>\n",
       "      <td>3</td>\n",
       "      <td>0</td>\n",
       "      <td>NaN</td>\n",
       "      <td>1</td>\n",
       "      <td>365</td>\n",
       "    </tr>\n",
       "    <tr>\n",
       "      <th>3</th>\n",
       "      <td>40.68514</td>\n",
       "      <td>-73.95976</td>\n",
       "      <td>1</td>\n",
       "      <td>270</td>\n",
       "      <td>4.64</td>\n",
       "      <td>1</td>\n",
       "      <td>194</td>\n",
       "    </tr>\n",
       "    <tr>\n",
       "      <th>4</th>\n",
       "      <td>40.79851</td>\n",
       "      <td>-73.94399</td>\n",
       "      <td>10</td>\n",
       "      <td>9</td>\n",
       "      <td>0.10</td>\n",
       "      <td>1</td>\n",
       "      <td>0</td>\n",
       "    </tr>\n",
       "    <tr>\n",
       "      <th>...</th>\n",
       "      <td>...</td>\n",
       "      <td>...</td>\n",
       "      <td>...</td>\n",
       "      <td>...</td>\n",
       "      <td>...</td>\n",
       "      <td>...</td>\n",
       "      <td>...</td>\n",
       "    </tr>\n",
       "    <tr>\n",
       "      <th>48890</th>\n",
       "      <td>40.67853</td>\n",
       "      <td>-73.94995</td>\n",
       "      <td>2</td>\n",
       "      <td>0</td>\n",
       "      <td>NaN</td>\n",
       "      <td>2</td>\n",
       "      <td>9</td>\n",
       "    </tr>\n",
       "    <tr>\n",
       "      <th>48891</th>\n",
       "      <td>40.70184</td>\n",
       "      <td>-73.93317</td>\n",
       "      <td>4</td>\n",
       "      <td>0</td>\n",
       "      <td>NaN</td>\n",
       "      <td>2</td>\n",
       "      <td>36</td>\n",
       "    </tr>\n",
       "    <tr>\n",
       "      <th>48892</th>\n",
       "      <td>40.81475</td>\n",
       "      <td>-73.94867</td>\n",
       "      <td>10</td>\n",
       "      <td>0</td>\n",
       "      <td>NaN</td>\n",
       "      <td>1</td>\n",
       "      <td>27</td>\n",
       "    </tr>\n",
       "    <tr>\n",
       "      <th>48893</th>\n",
       "      <td>40.75751</td>\n",
       "      <td>-73.99112</td>\n",
       "      <td>1</td>\n",
       "      <td>0</td>\n",
       "      <td>NaN</td>\n",
       "      <td>6</td>\n",
       "      <td>2</td>\n",
       "    </tr>\n",
       "    <tr>\n",
       "      <th>48894</th>\n",
       "      <td>40.76404</td>\n",
       "      <td>-73.98933</td>\n",
       "      <td>7</td>\n",
       "      <td>0</td>\n",
       "      <td>NaN</td>\n",
       "      <td>1</td>\n",
       "      <td>23</td>\n",
       "    </tr>\n",
       "  </tbody>\n",
       "</table>\n",
       "<p>48895 rows × 7 columns</p>\n",
       "</div>"
      ],
      "text/plain": [
       "       latitude  longitude  minimum_nights  number_of_reviews  \\\n",
       "0      40.64749  -73.97237               1                  9   \n",
       "1      40.75362  -73.98377               1                 45   \n",
       "2      40.80902  -73.94190               3                  0   \n",
       "3      40.68514  -73.95976               1                270   \n",
       "4      40.79851  -73.94399              10                  9   \n",
       "...         ...        ...             ...                ...   \n",
       "48890  40.67853  -73.94995               2                  0   \n",
       "48891  40.70184  -73.93317               4                  0   \n",
       "48892  40.81475  -73.94867              10                  0   \n",
       "48893  40.75751  -73.99112               1                  0   \n",
       "48894  40.76404  -73.98933               7                  0   \n",
       "\n",
       "       reviews_per_month  calculated_host_listings_count  availability_365  \n",
       "0                   0.21                               6               365  \n",
       "1                   0.38                               2               355  \n",
       "2                    NaN                               1               365  \n",
       "3                   4.64                               1               194  \n",
       "4                   0.10                               1                 0  \n",
       "...                  ...                             ...               ...  \n",
       "48890                NaN                               2                 9  \n",
       "48891                NaN                               2                36  \n",
       "48892                NaN                               1                27  \n",
       "48893                NaN                               6                 2  \n",
       "48894                NaN                               1                23  \n",
       "\n",
       "[48895 rows x 7 columns]"
      ]
     },
     "metadata": {},
     "execution_count": 6
    }
   ],
   "metadata": {}
  },
  {
   "cell_type": "code",
   "execution_count": 183,
   "source": [
    "df_train.isnull().sum()"
   ],
   "outputs": [
    {
     "output_type": "execute_result",
     "data": {
      "text/plain": [
       "id                                   0\n",
       "name                                 7\n",
       "host_id                              0\n",
       "host_name                           10\n",
       "neighbourhood_group                  0\n",
       "neighbourhood                        0\n",
       "latitude                             0\n",
       "longitude                            0\n",
       "room_type                            0\n",
       "minimum_nights                       0\n",
       "number_of_reviews                    0\n",
       "last_review                       6146\n",
       "reviews_per_month                 6146\n",
       "calculated_host_listings_count       0\n",
       "availability_365                     0\n",
       "dtype: int64"
      ]
     },
     "metadata": {},
     "execution_count": 183
    }
   ],
   "metadata": {}
  },
  {
   "cell_type": "code",
   "execution_count": 9,
   "source": [
    "def prepare_X(df):\r\n",
    "    df_num = df[base]\r\n",
    "    df_num = df_num.fillna(0)\r\n",
    "    X = df_num.values\r\n",
    "    return X"
   ],
   "outputs": [],
   "metadata": {}
  },
  {
   "cell_type": "code",
   "execution_count": 10,
   "source": [
    "def prepare_X_means(df):\r\n",
    "    df_num = df[base]\r\n",
    "    df_num = df_num.fillna(df_num.mean())\r\n",
    "    X = df_num.values\r\n",
    "    return X"
   ],
   "outputs": [],
   "metadata": {}
  },
  {
   "cell_type": "markdown",
   "source": [
    "<h2> Linear Regression\r\n",
    "</h2>\r\n"
   ],
   "metadata": {}
  },
  {
   "cell_type": "code",
   "execution_count": 12,
   "source": [
    "def train_linear_regression(X, y):\r\n",
    "    ones = np.ones(X.shape[0])\r\n",
    "    X = np.column_stack([ones, X])\r\n",
    "    XTX = X.T.dot(X)\r\n",
    "    XTX_inv = np.linalg.inv(XTX)\r\n",
    "    w = XTX_inv.dot(X.T).dot(y)\r\n",
    "    return w[0], w[1:]"
   ],
   "outputs": [],
   "metadata": {}
  },
  {
   "cell_type": "code",
   "execution_count": 14,
   "source": [
    "def rmse(y,y_pred):\r\n",
    "    se = pow(y - y_pred, 2)\r\n",
    "    mse = se.mean() # NUMPY mean method\r\n",
    "    return np.sqrt(mse)"
   ],
   "outputs": [],
   "metadata": {}
  },
  {
   "cell_type": "code",
   "execution_count": 15,
   "source": [
    "list_seeds=[]\r\n",
    "for x in [0, 1, 2, 3, 4, 5, 6, 7, 8, 9]:\r\n",
    "    print(\"for seed\",x)\r\n",
    "    np.random.seed(x)\r\n",
    "    n = len(df)\r\n",
    "    n_val = int(0.2 * n)\r\n",
    "    n_test = int(0.2 * n)\r\n",
    "    n_train = n - (n_val + n_test)\r\n",
    "    idx = np.arange(n)\r\n",
    "    np.random.shuffle(idx)\r\n",
    "    df_shuffled = df.iloc[idx]\r\n",
    "    df_train = df_shuffled.iloc[:n_train].copy()\r\n",
    "    df_val = df_shuffled.iloc[n_train:n_train+n_val].copy()\r\n",
    "    df_test = df_shuffled.iloc[n_train+n_val:].copy()\r\n",
    "    y_train_orig = df_train.price.values\r\n",
    "    y_val_orig = df_val.price.values\r\n",
    "    y_test_orig = df_test.price.values\r\n",
    "    y_train = np.log1p(df_train.price.values)\r\n",
    "    y_val = np.log1p(df_val.price.values)\r\n",
    "    y_test = np.log1p(df_test.price.values)\r\n",
    "    del df_train['price']\r\n",
    "    del df_val['price']\r\n",
    "    del df_test['price']\r\n",
    "    X_train = prepare_X(df_train)\r\n",
    "    w_0, w = train_linear_regression(X_train, y_train)\r\n",
    "    X_val = prepare_X(df_val)\r\n",
    "    y_pred = w_0 + X_val.dot(w)\r\n",
    "    print('validation:', rmse(y_val, y_pred))\r\n",
    "    list_seeds.append(rmse(y_val, y_pred))\r\n",
    "    X_test = prepare_X(df_test)\r\n",
    "    y_pred = w_0 + X_test.dot(w)\r\n",
    "    print('test:', rmse(y_test, y_pred))\r\n",
    "\r\n",
    "list_seeds\r\n",
    "print(\" The STD for all seeds \" ,round(np.std(list_seeds),3))"
   ],
   "outputs": [
    {
     "output_type": "stream",
     "name": "stdout",
     "text": [
      "for seed 0\n",
      "validation: 0.6549779961346657\n",
      "test: 0.6304569982548498\n",
      "for seed 1\n",
      "validation: 0.6462523685627168\n",
      "test: 0.6486723821113527\n",
      "for seed 2\n",
      "validation: 0.6476558176286166\n",
      "test: 0.6409503260855544\n",
      "for seed 3\n",
      "validation: 0.6375145070186145\n",
      "test: 0.6396698467894589\n",
      "for seed 4\n",
      "validation: 0.6445809083682932\n",
      "test: 0.6555733449194385\n",
      "for seed 5\n",
      "validation: 0.6305809996187742\n",
      "test: 0.6391858794354185\n",
      "for seed 6\n",
      "validation: 0.6297851917850126\n",
      "test: 0.6473543640212285\n",
      "for seed 7\n",
      "validation: 0.6506184267094883\n",
      "test: 0.6558892184286734\n",
      "for seed 8\n",
      "validation: 0.6489780353545126\n",
      "test: 0.640513556859824\n",
      "for seed 9\n",
      "validation: 0.643756516828629\n",
      "test: 0.6450366766812393\n",
      " The STD for all seeds  0.008\n"
     ]
    }
   ],
   "metadata": {}
  },
  {
   "cell_type": "code",
   "execution_count": 16,
   "source": [
    "X_train = prepare_X(df_train)\r\n",
    "w_0, w = train_linear_regression(X_train, y_train)"
   ],
   "outputs": [],
   "metadata": {}
  },
  {
   "cell_type": "code",
   "execution_count": 17,
   "source": [
    "w_0, w = train_linear_regression(X_train, y_train)\r\n"
   ],
   "outputs": [],
   "metadata": {}
  },
  {
   "cell_type": "code",
   "execution_count": 18,
   "source": [
    "y_pred = w_0 + X_train.dot(w)\r\n"
   ],
   "outputs": [],
   "metadata": {}
  },
  {
   "cell_type": "code",
   "execution_count": 19,
   "source": [
    "plt.figure(figsize=(6, 4))\r\n",
    "\r\n",
    "sns.histplot(y_train, label='target', color='green', alpha=0.6, bins=40)\r\n",
    "sns.histplot(y_pred, label='prediction', color='red', alpha=0.8, bins=40)\r\n",
    "\r\n",
    "plt.legend()\r\n",
    "\r\n",
    "plt.ylabel('Frequency')\r\n",
    "plt.xlabel('Log(Price + 1)')\r\n",
    "plt.title('Predictions vs actual distribution')\r\n",
    "\r\n",
    "plt.show()"
   ],
   "outputs": [
    {
     "output_type": "display_data",
     "data": {
      "image/png": "[encoded data removed]",
      "text/plain": [
       "<Figure size 432x288 with 1 Axes>"
      ]
     },
     "metadata": {
      "needs_background": "light"
     }
    }
   ],
   "metadata": {}
  },
  {
   "cell_type": "code",
   "execution_count": 21,
   "source": [
    "def train_linear_regression_reg(X, y, r=0.0):\r\n",
    "    ones = np.ones(X.shape[0])\r\n",
    "    X = np.column_stack([ones, X])\r\n",
    "    XTX = X.T.dot(X)\r\n",
    "    reg = r * np.eye(XTX.shape[0])\r\n",
    "    XTX = XTX + reg\r\n",
    "\r\n",
    "    XTX_inv = np.linalg.inv(XTX)\r\n",
    "    w = XTX_inv.dot(X.T).dot(y)\r\n",
    "    \r\n",
    "    return w[0], w[1:]"
   ],
   "outputs": [],
   "metadata": {}
  },
  {
   "cell_type": "code",
   "execution_count": 22,
   "source": [
    "\r\n",
    "X_train = prepare_X(df_train)\r\n",
    "w_0, w = train_linear_regression_reg(X_train, y_train, r=0)\r\n",
    "\r\n",
    "X_val = prepare_X(df_val)\r\n",
    "y_pred = w_0 + X_val.dot(w)\r\n",
    "print('validation:', round(rmse(y_val, y_pred),2))\r\n",
    "\r\n",
    "X_test = prepare_X(df_test)\r\n",
    "y_pred = w_0 + X_test.dot(w)\r\n",
    "print('test:', round(rmse(y_test, y_pred),2))"
   ],
   "outputs": [
    {
     "output_type": "stream",
     "name": "stdout",
     "text": [
      "validation: 0.64\n",
      "test: 0.65\n"
     ]
    }
   ],
   "metadata": {}
  },
  {
   "cell_type": "code",
   "execution_count": 218,
   "source": [
    "rmse(y_val, y_pred)\r\n"
   ],
   "outputs": [
    {
     "output_type": "execute_result",
     "data": {
      "text/plain": [
       "0.643756516828629"
      ]
     },
     "metadata": {},
     "execution_count": 218
    }
   ],
   "metadata": {}
  },
  {
   "cell_type": "code",
   "execution_count": 25,
   "source": [
    "for r in [0, 0.000001, 0.0001, 0.001, 0.01, 0.1, 1, 5, 10]:\r\n",
    "    w_0, w = train_linear_regression_reg(X_train, y_train, r=r)\r\n",
    "    y_pred = w_0 + X_val.dot(w)\r\n",
    "    print('%6s' %r, rmse(y_val, y_pred))\r\n"
   ],
   "outputs": [
    {
     "output_type": "stream",
     "name": "stdout",
     "text": [
      "     0 0.643756516828629\n",
      " 1e-06 0.6437562387633923\n",
      "0.0001 0.6437347928105802\n",
      " 0.001 0.6439824310232958\n",
      "  0.01 0.6546902699099876\n",
      "   0.1 0.6759833393314361\n",
      "     1 0.6809754401217905\n",
      "     5 0.6814733712695191\n",
      "    10 0.6815422198914772\n"
     ]
    }
   ],
   "metadata": {}
  },
  {
   "cell_type": "markdown",
   "source": [],
   "metadata": {}
  }
 ],
 "metadata": {
  "orig_nbformat": 4,
  "language_info": {
   "name": "python",
   "version": "3.9.2",
   "mimetype": "text/x-python",
   "codemirror_mode": {
    "name": "ipython",
    "version": 3
   },
   "pygments_lexer": "ipython3",
   "nbconvert_exporter": "python",
   "file_extension": ".py"
  },
  "kernelspec": {
   "name": "python3",
   "display_name": "Python 3.9.2 64-bit"
  },
  "interpreter": {
   "hash": "468f25ad0239460415b7e6b7483d5c8f7213894121f6fb96c4cb6ef93fffe534"
  }
 },
 "nbformat": 4,
 "nbformat_minor": 2
}