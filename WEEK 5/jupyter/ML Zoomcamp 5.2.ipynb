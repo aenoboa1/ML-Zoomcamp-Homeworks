{
 "cells": [
  {
   "cell_type": "code",
   "execution_count": null,
   "source": [
    "import pandas as pd\r\n",
    "import numpy as np\r\n",
    "\r\n",
    "import matplotlib.pyplot as plt\r\n",
    "\r\n",
    "from sklearn.model_selection import train_test_split\r\n",
    "from sklearn.feature_extraction import DictVectorizer\r\n",
    "from sklearn.model_selection import KFold\r\n",
    "from sklearn.linear_model import LogisticRegression\r\n",
    "from sklearn.metrics import roc_auc_score"
   ],
   "outputs": [],
   "metadata": {}
  },
  {
   "cell_type": "code",
   "execution_count": null,
   "source": [
    "df = pd.read_csv('data-week-3.csv')\r\n",
    "\r\n",
    "df.columns = df.columns.str.lower().str.replace(' ', '_')\r\n",
    "\r\n",
    "categorical_columns = list(df.dtypes[df.dtypes == 'object'].index)\r\n",
    "\r\n",
    "for c in categorical_columns:\r\n",
    "    df[c] = df[c].str.lower().str.replace(' ', '_')\r\n",
    "\r\n",
    "df.totalcharges = pd.to_numeric(df.totalcharges, errors='coerce')\r\n",
    "df.totalcharges = df.totalcharges.fillna(0)\r\n",
    "\r\n",
    "df.churn = (df.churn == 'yes').astype(int)\r\n"
   ],
   "outputs": [],
   "metadata": {}
  },
  {
   "cell_type": "code",
   "execution_count": null,
   "source": [
    "df_full_train, df_test = train_test_split(df, test_size=0.2, random_state=1)\r\n"
   ],
   "outputs": [],
   "metadata": {}
  },
  {
   "cell_type": "code",
   "execution_count": null,
   "source": [
    "numerical = ['tenure', 'monthlycharges', 'totalcharges']\r\n",
    "\r\n",
    "categorical = [\r\n",
    "    'gender',\r\n",
    "    'seniorcitizen',\r\n",
    "    'partner',\r\n",
    "    'dependents',\r\n",
    "    'phoneservice',\r\n",
    "    'multiplelines',\r\n",
    "    'internetservice',\r\n",
    "    'onlinesecurity',\r\n",
    "    'onlinebackup',\r\n",
    "    'deviceprotection',\r\n",
    "    'techsupport',\r\n",
    "    'streamingtv',\r\n",
    "    'streamingmovies',\r\n",
    "    'contract',\r\n",
    "    'paperlessbilling',\r\n",
    "    'paymentmethod',\r\n",
    "]\r\n"
   ],
   "outputs": [],
   "metadata": {}
  },
  {
   "cell_type": "code",
   "execution_count": null,
   "source": [
    "def train(df_train, y_train, C=1.0):\r\n",
    "    dicts = df_train[categorical + numerical].to_dict(orient='records')\r\n",
    "\r\n",
    "    dv = DictVectorizer(sparse=False)\r\n",
    "    X_train = dv.fit_transform(dicts)\r\n",
    "\r\n",
    "    model = LogisticRegression(C=C, max_iter=1000)\r\n",
    "    model.fit(X_train, y_train)\r\n",
    "    \r\n",
    "    return dv, model\r\n"
   ],
   "outputs": [],
   "metadata": {}
  },
  {
   "cell_type": "code",
   "execution_count": null,
   "source": [
    "\r\n",
    "def predict(df, dv, model):\r\n",
    "    dicts = df[categorical + numerical].to_dict(orient='records')\r\n",
    "\r\n",
    "    X = dv.transform(dicts)\r\n",
    "    y_pred = model.predict_proba(X)[:, 1]\r\n",
    "\r\n",
    "    return y_pred\r\n"
   ],
   "outputs": [],
   "metadata": {}
  },
  {
   "cell_type": "code",
   "execution_count": null,
   "source": [
    "C= 1.0\r\n",
    "n_splits = 5"
   ],
   "outputs": [],
   "metadata": {}
  },
  {
   "cell_type": "code",
   "execution_count": null,
   "source": [
    "kfold = KFold(n_splits=n_splits, shuffle=True, random_state=1)\r\n",
    "\r\n",
    "scores = []\r\n",
    "\r\n",
    "for train_idx, val_idx in kfold.split(df_full_train):\r\n",
    "    df_train = df_full_train.iloc[train_idx]\r\n",
    "    df_val = df_full_train.iloc[val_idx]\r\n",
    "\r\n",
    "    y_train = df_train.churn.values\r\n",
    "    y_val = df_val.churn.values\r\n",
    "\r\n",
    "    dv, model = train(df_train, y_train, C=C)\r\n",
    "    y_pred = predict(df_val, dv, model)\r\n",
    "\r\n",
    "    auc = roc_auc_score(y_val, y_pred)\r\n",
    "    scores.append(auc)\r\n",
    "\r\n",
    "print('C=%s %.3f +- %.3f' % (C, np.mean(scores), np.std(scores)))\r\n"
   ],
   "outputs": [],
   "metadata": {}
  },
  {
   "cell_type": "code",
   "execution_count": null,
   "source": [
    "scores"
   ],
   "outputs": [],
   "metadata": {}
  },
  {
   "cell_type": "code",
   "execution_count": null,
   "source": [
    "dv,model = train(df_full_train,df_full_train.churn.values,C=1.0)\r\n",
    "y_pred= predict(df_test,dv,model)\r\n",
    "\r\n",
    "\r\n",
    "y_test = df_test.churn.values\r\n",
    "\r\n",
    "auc = roc_auc_score(y_test,y_pred)\r\n",
    "auc "
   ],
   "outputs": [],
   "metadata": {}
  },
  {
   "cell_type": "markdown",
   "source": [
    "# Overview\r\n",
    "- Take the model , put in into a webservice \r\n",
    "- Using Pickle"
   ],
   "metadata": {}
  },
  {
   "cell_type": "code",
   "execution_count": null,
   "source": [
    "import pickle \r\n",
    "\r\n",
    "output_file = f'model_C={C}.bin' #directly refering the C variable\r\n",
    "output_file \r\n"
   ],
   "outputs": [],
   "metadata": {}
  },
  {
   "cell_type": "code",
   "execution_count": null,
   "source": [
    "\r\n",
    "#creating file\r\n",
    "f_out = open(output_file,'wb') # binary file\r\n",
    "\r\n",
    "pickle.dump(model,f_out)"
   ],
   "outputs": [],
   "metadata": {}
  },
  {
   "cell_type": "code",
   "execution_count": null,
   "source": [
    "with open(output_file,'wb') as f_out:\r\n",
    "    pickle.dump((dv,model),f_out)\r\n",
    "    #file open  \r\n",
    "    \r\n",
    "# file closed"
   ],
   "outputs": [],
   "metadata": {}
  },
  {
   "cell_type": "markdown",
   "source": [
    "Load the model"
   ],
   "metadata": {}
  },
  {
   "cell_type": "code",
   "execution_count": 1,
   "source": [
    "import pickle"
   ],
   "outputs": [],
   "metadata": {}
  },
  {
   "cell_type": "code",
   "execution_count": 2,
   "source": [
    "model_file = 'model_C=1.0.bin'"
   ],
   "outputs": [],
   "metadata": {}
  },
  {
   "cell_type": "code",
   "execution_count": 3,
   "source": [
    "with open(model_file,'rb') as f_in: # read file\r\n",
    "    (dv,model) = pickle.load(f_in)\r\n",
    "    #file open  "
   ],
   "outputs": [],
   "metadata": {}
  },
  {
   "cell_type": "code",
   "execution_count": 4,
   "source": [
    "dv,model # reading the dictionary vector and the model"
   ],
   "outputs": [
    {
     "output_type": "execute_result",
     "data": {
      "text/plain": [
       "(DictVectorizer(sparse=False), LogisticRegression(max_iter=1000))"
      ]
     },
     "metadata": {},
     "execution_count": 4
    }
   ],
   "metadata": {}
  },
  {
   "cell_type": "code",
   "execution_count": 13,
   "source": [
    "customer = {\r\n",
    "    \"gender\": \"female\",\r\n",
    "    \"seniorcitizen\": 0,\r\n",
    "    \"partner\": \"yes\",\r\n",
    "    \"dependents\": \"no\",\r\n",
    "    \"phoneservice\": \"no\",\r\n",
    "    \"multiplelines\": \"no_phone_service\",\r\n",
    "    \"internetservice\": \"dsl\",\r\n",
    "    \"onlinesecurity\": \"no\",\r\n",
    "    \"onlinebackup\": \"yes\",\r\n",
    "    \"deviceprotection\": \"no\",\r\n",
    "    \"techsupport\": \"no\",\r\n",
    "    \"streamingtv\": \"no\",\r\n",
    "    \"streamingmovies\": \"no\",\r\n",
    "    \"contract\": \"month-to-month\",\r\n",
    "    \"paperlessbilling\": \"yes\",\r\n",
    "    \"paymentmethod\": \"electronic_check\",\r\n",
    "    \"tenure\": 1,\r\n",
    "    \"monthlycharges\": 29.85,\r\n",
    "    \"totalcharges\": 29.85\r\n",
    "}\r\n"
   ],
   "outputs": [],
   "metadata": {}
  },
  {
   "cell_type": "code",
   "execution_count": 14,
   "source": [
    "X=dv.transform([customer])"
   ],
   "outputs": [],
   "metadata": {}
  },
  {
   "cell_type": "code",
   "execution_count": 15,
   "source": [
    "model.predict_proba(X)[0,1]"
   ],
   "outputs": [
    {
     "output_type": "execute_result",
     "data": {
      "text/plain": [
       "0.6363584152684063"
      ]
     },
     "metadata": {},
     "execution_count": 15
    }
   ],
   "metadata": {}
  }
 ],
 "metadata": {
  "orig_nbformat": 4,
  "language_info": {
   "name": "python",
   "version": "3.9.7",
   "mimetype": "text/x-python",
   "codemirror_mode": {
    "name": "ipython",
    "version": 3
   },
   "pygments_lexer": "ipython3",
   "nbconvert_exporter": "python",
   "file_extension": ".py"
  },
  "kernelspec": {
   "name": "python3",
   "display_name": "Python 3.9.7 64-bit"
  },
  "interpreter": {
   "hash": "468f25ad0239460415b7e6b7483d5c8f7213894121f6fb96c4cb6ef93fffe534"
  }
 },
 "nbformat": 4,
 "nbformat_minor": 2
}