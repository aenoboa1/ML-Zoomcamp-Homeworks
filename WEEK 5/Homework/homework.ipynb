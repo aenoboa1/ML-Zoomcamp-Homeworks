{
 "cells": [
  {
   "cell_type": "markdown",
   "metadata": {},
   "source": [
    "# Homework - Week 5"
   ]
  },
  {
   "cell_type": "code",
   "execution_count": 11,
   "metadata": {},
   "outputs": [
    {
     "name": "stdout",
     "output_type": "stream",
     "text": [
      "pipenv, version 2021.5.29\n",
      "0\n",
      "sklearn version: 0.24.2\n"
     ]
    }
   ],
   "source": [
    "import os\n",
    "import sklearn\n",
    "import pickle\n",
    "\n",
    "print(os.system(\"pipenv --version\"))\n",
    "\n",
    "print(\"sklearn version:\",sklearn. __version__)"
   ]
  },
  {
   "cell_type": "code",
   "execution_count": 2,
   "metadata": {},
   "outputs": [
    {
     "name": "stdout",
     "output_type": "stream",
     "text": [
      "--2021-10-10 10:00:41--  https://raw.githubusercontent.com/alexeygrigorev/mlbookcamp-code/master/course-zoomcamp/05-deployment/homework/model1.bin\n",
      "Resolving raw.githubusercontent.com (raw.githubusercontent.com)... 185.199.111.133, 185.199.108.133, 185.199.109.133, ...\n",
      "Connecting to raw.githubusercontent.com (raw.githubusercontent.com)|185.199.111.133|:443... connected.\n",
      "HTTP request sent, awaiting response... 200 OK\n",
      "Length: 746 [application/octet-stream]\n",
      "Saving to: ‘model1.bin.1’\n",
      "\n",
      "model1.bin.1        100%[===================>]     746  --.-KB/s    in 0s      \n",
      "\n",
      "2021-10-10 10:00:41 (29.2 MB/s) - ‘model1.bin.1’ saved [746/746]\n",
      "\n",
      "--2021-10-10 10:00:42--  https://raw.githubusercontent.com/alexeygrigorev/mlbookcamp-code/master/course-zoomcamp/05-deployment/homework/dv.bin\n",
      "Resolving raw.githubusercontent.com (raw.githubusercontent.com)... 185.199.111.133, 185.199.108.133, 185.199.109.133, ...\n",
      "Connecting to raw.githubusercontent.com (raw.githubusercontent.com)|185.199.111.133|:443... connected.\n",
      "HTTP request sent, awaiting response... 200 OK\n",
      "Length: 323 [application/octet-stream]\n",
      "Saving to: ‘dv.bin.1’\n",
      "\n",
      "dv.bin.1            100%[===================>]     323  --.-KB/s    in 0s      \n",
      "\n",
      "2021-10-10 10:00:42 (17.7 MB/s) - ‘dv.bin.1’ saved [323/323]\n",
      "\n"
     ]
    }
   ],
   "source": [
    "PREFIX=\"https://raw.githubusercontent.com/alexeygrigorev/mlbookcamp-code/master/course-zoomcamp/05-deployment/homework\"\n",
    "\n",
    "!wget $PREFIX/model1.bin\n",
    "\n",
    "!wget $PREFIX/dv.bin\n"
   ]
  },
  {
   "cell_type": "code",
   "execution_count": 3,
   "metadata": {},
   "outputs": [],
   "source": [
    "\n",
    "model_file = 'model1.bin'\n",
    "dv_file = 'dv.bin'\n"
   ]
  },
  {
   "cell_type": "code",
   "execution_count": 5,
   "metadata": {},
   "outputs": [],
   "source": [
    "def loading_models(dv_file, model_file ):\n",
    "    with open(dv_file,'rb') as f_in: # read file\n",
    "        dv = pickle.load(f_in)\n",
    "    with open(model_file,'rb') as f_in: # read file\n",
    "        model = pickle.load(f_in)\n",
    "    return dv,model\n",
    "\n"
   ]
  },
  {
   "cell_type": "code",
   "execution_count": 6,
   "metadata": {},
   "outputs": [
    {
     "name": "stderr",
     "output_type": "stream",
     "text": [
      "/home/elegant01/.local/share/virtualenvs/WEEK_5-VaPqIhmU/lib/python3.9/site-packages/sklearn/base.py:310: UserWarning: Trying to unpickle estimator DictVectorizer from version 1.0 when using version 0.24.2. This might lead to breaking code or invalid results. Use at your own risk.\n",
      "  warnings.warn(\n",
      "/home/elegant01/.local/share/virtualenvs/WEEK_5-VaPqIhmU/lib/python3.9/site-packages/sklearn/base.py:310: UserWarning: Trying to unpickle estimator LogisticRegression from version 1.0 when using version 0.24.2. This might lead to breaking code or invalid results. Use at your own risk.\n",
      "  warnings.warn(\n"
     ]
    }
   ],
   "source": [
    "dv,model = loading_models(dv_file,model_file)"
   ]
  },
  {
   "cell_type": "code",
   "execution_count": 7,
   "metadata": {},
   "outputs": [
    {
     "data": {
      "text/plain": [
       "(DictVectorizer(sparse=False), LogisticRegression())"
      ]
     },
     "execution_count": 7,
     "metadata": {},
     "output_type": "execute_result"
    }
   ],
   "source": [
    "dv,model"
   ]
  },
  {
   "cell_type": "code",
   "execution_count": 8,
   "metadata": {},
   "outputs": [],
   "source": [
    "customer =  {\"contract\": \"two_year\", \"tenure\": 12, \"monthlycharges\": 19.7}\n"
   ]
  },
  {
   "cell_type": "code",
   "execution_count": 9,
   "metadata": {},
   "outputs": [],
   "source": [
    "X=dv.transform([customer])"
   ]
  },
  {
   "cell_type": "code",
   "execution_count": 12,
   "metadata": {},
   "outputs": [
    {
     "data": {
      "text/plain": [
       "0.11549580587832914"
      ]
     },
     "execution_count": 12,
     "metadata": {},
     "output_type": "execute_result"
    }
   ],
   "source": [
    "model.predict_proba(X)[0,1]"
   ]
  }
 ],
 "metadata": {
  "interpreter": {
   "hash": "61e0c2ea4c4e1934035bf6dac9616718ac9e12b366760844e26f2b0e57edb9b6"
  },
  "kernelspec": {
   "display_name": "Python 3.9.7 64-bit ('WEEK_5-VaPqIhmU': venv)",
   "name": "python3"
  },
  "language_info": {
   "codemirror_mode": {
    "name": "ipython",
    "version": 3
   },
   "file_extension": ".py",
   "mimetype": "text/x-python",
   "name": "python",
   "nbconvert_exporter": "python",
   "pygments_lexer": "ipython3",
   "version": "3.9.7"
  },
  "orig_nbformat": 4
 },
 "nbformat": 4,
 "nbformat_minor": 2
}
