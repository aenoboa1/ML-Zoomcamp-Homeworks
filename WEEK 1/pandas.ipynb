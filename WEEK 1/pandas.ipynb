{
 "cells": [
  {
   "cell_type": "code",
   "execution_count": null,
   "source": [
    "import numpy as np\r\n",
    "import pandas as pd"
   ],
   "outputs": [],
   "metadata": {}
  },
  {
   "cell_type": "markdown",
   "source": [
    "DATA FRAMES\r\n",
    "\r\n",
    "SUBSET OF DATASET - PRICE OF CARS"
   ],
   "metadata": {}
  },
  {
   "cell_type": "code",
   "execution_count": null,
   "source": [
    "data = [\r\n",
    "    {\r\n",
    "        \"Make\": \"Nissan\",\r\n",
    "        \"Model\": \"Stanza\",\r\n",
    "        \"Year\": 1991,\r\n",
    "        \"Engine HP\": 138.0,\r\n",
    "        \"Engine Cylinders\": 4,\r\n",
    "        \"Transmission Type\": \"MANUAL\",\r\n",
    "        \"Vehicle_Style\": \"sedan\",\r\n",
    "        \"MSRP\": 2000\r\n",
    "    },\r\n",
    "    {\r\n",
    "        \"Make\": \"Hyundai\",\r\n",
    "        \"Model\": \"Sonata\",\r\n",
    "        \"Year\": 2017,\r\n",
    "        \"Engine HP\": None,\r\n",
    "        \"Engine Cylinders\": 4,\r\n",
    "        \"Transmission Type\": \"AUTOMATIC\",\r\n",
    "        \"Vehicle_Style\": \"Sedan\",\r\n",
    "        \"MSRP\": 27150\r\n",
    "    },\r\n",
    "    {\r\n",
    "        \"Make\": \"Lotus\",\r\n",
    "        \"Model\": \"Elise\",\r\n",
    "        \"Year\": 2010,\r\n",
    "        \"Engine HP\": 218.0,\r\n",
    "        \"Engine Cylinders\": 4,\r\n",
    "        \"Transmission Type\": \"MANUAL\",\r\n",
    "        \"Vehicle_Style\": \"convertible\",\r\n",
    "        \"MSRP\": 54990\r\n",
    "    },\r\n",
    "    {\r\n",
    "        \"Make\": \"GMC\",\r\n",
    "        \"Model\": \"Acadia\",\r\n",
    "        \"Year\": 2017,\r\n",
    "        \"Engine HP\": 194.0,\r\n",
    "        \"Engine Cylinders\": 4,\r\n",
    "        \"Transmission Type\": \"AUTOMATIC\",\r\n",
    "        \"Vehicle_Style\": \"4dr SUV\",\r\n",
    "        \"MSRP\": 34450\r\n",
    "    },\r\n",
    "    {\r\n",
    "        \"Make\": \"Nissan\",\r\n",
    "        \"Model\": \"Frontier\",\r\n",
    "        \"Year\": 2017,\r\n",
    "        \"Engine HP\": 261.0,\r\n",
    "        \"Engine Cylinders\": 6,\r\n",
    "        \"Transmission Type\": \"MANUAL\",\r\n",
    "        \"Vehicle_Style\": \"Pickup\",\r\n",
    "        \"MSRP\": 32340\r\n",
    "    }\r\n",
    "]\r\n"
   ],
   "outputs": [],
   "metadata": {}
  },
  {
   "cell_type": "code",
   "execution_count": null,
   "source": [
    "pd.DataFrame(data) #USE NAME OF COLUMNS FROM THE DICTIONARY "
   ],
   "outputs": [],
   "metadata": {}
  },
  {
   "cell_type": "code",
   "execution_count": null,
   "source": [
    "df= pd.DataFrame(data)\r\n",
    "df.head(n=1)\r\n"
   ],
   "outputs": [],
   "metadata": {}
  },
  {
   "cell_type": "code",
   "execution_count": null,
   "source": [
    "df['id'] = [1,2,3,4,5]\r\n",
    "display(df) # Use display to print"
   ],
   "outputs": [],
   "metadata": {}
  },
  {
   "cell_type": "code",
   "execution_count": null,
   "source": [
    "# delete DEL\r\n",
    "\r\n",
    "# del df['id']"
   ],
   "outputs": [],
   "metadata": {}
  },
  {
   "cell_type": "code",
   "execution_count": null,
   "source": [
    "df.index"
   ],
   "outputs": [],
   "metadata": {}
  },
  {
   "cell_type": "code",
   "execution_count": null,
   "source": [
    "\r\n",
    "df.Make.index"
   ],
   "outputs": [],
   "metadata": {}
  },
  {
   "cell_type": "code",
   "execution_count": null,
   "source": [
    "df.loc[1]"
   ],
   "outputs": [],
   "metadata": {}
  },
  {
   "cell_type": "code",
   "execution_count": null,
   "source": [
    "df.index =['a','b','c','d','e']\r\n",
    "\r\n",
    "df.loc[['b','c']]"
   ],
   "outputs": [],
   "metadata": {}
  },
  {
   "cell_type": "markdown",
   "source": [
    "iloc"
   ],
   "metadata": {}
  },
  {
   "cell_type": "code",
   "execution_count": null,
   "source": [
    "df.iloc[1]"
   ],
   "outputs": [],
   "metadata": {}
  },
  {
   "cell_type": "code",
   "execution_count": null,
   "source": [
    "df = df.reset_index(drop=TRUE) #overwrite old data frame"
   ],
   "outputs": [],
   "metadata": {}
  },
  {
   "cell_type": "markdown",
   "source": [
    "ELEMENT WISE OPERATIONS"
   ],
   "metadata": {}
  },
  {
   "cell_type": "code",
   "execution_count": null,
   "source": [
    "df['Engine HP']/100 \r\n",
    "\r\n",
    "# NaN , we don't know"
   ],
   "outputs": [],
   "metadata": {}
  },
  {
   "cell_type": "code",
   "execution_count": 101,
   "source": [],
   "outputs": [
    {
     "output_type": "error",
     "ename": "SyntaxError",
     "evalue": "invalid syntax (Temp/ipykernel_6560/2550154276.py, line 1)",
     "traceback": [
      "\u001b[1;36m  File \u001b[1;32m\"C:\\Users\\andre\\AppData\\Local\\Temp/ipykernel_6560/2550154276.py\"\u001b[1;36m, line \u001b[1;32m1\u001b[0m\n\u001b[1;33m    wget https://raw.githubusercontent.com/alexeygrigorev/mlbookcamp-code/master/chapter-02-car-price/data.csv\u001b[0m\n\u001b[1;37m         ^\u001b[0m\n\u001b[1;31mSyntaxError\u001b[0m\u001b[1;31m:\u001b[0m invalid syntax\n"
     ]
    }
   ],
   "metadata": {}
  },
  {
   "cell_type": "code",
   "execution_count": null,
   "source": [
    "df['Year'] >= 2015\r\n",
    "\r\n",
    "\r\n",
    "df[ # returns only true values (after 2015)\r\n",
    "    df['Make'] ==\"BMW\" #returns a binary series \r\n",
    "]"
   ],
   "outputs": [],
   "metadata": {}
  },
  {
   "cell_type": "code",
   "execution_count": null,
   "source": [
    "\r\n",
    "df[ # returns only true values (after 2015)\r\n",
    "    df['Make'].str.match('C$') #returns a binary series \r\n",
    "]"
   ],
   "outputs": [],
   "metadata": {}
  },
  {
   "cell_type": "markdown",
   "source": [
    "String Operations"
   ],
   "metadata": {}
  },
  {
   "cell_type": "code",
   "execution_count": null,
   "source": [
    "df['Vehicle_Style']\r\n",
    "\r\n",
    "# apply lower case \r\n",
    "\r\n",
    "df['Vehicle_Style'].str.lower()"
   ],
   "outputs": [],
   "metadata": {}
  },
  {
   "cell_type": "code",
   "execution_count": null,
   "source": [
    "'machine learning zoomcamp'.replace(' ','_')\r\n",
    "\r\n",
    "df['Vehicle_Style'].str.replace(' ', '_').str.lower() # returns new series \r\n",
    "\r\n"
   ],
   "outputs": [],
   "metadata": {}
  },
  {
   "cell_type": "code",
   "execution_count": null,
   "source": [
    "df['Vehicle_Style'] = df['Vehicle_Style'].str.replace(' ', '_').str.lower()\r\n",
    "\r\n",
    "display(df)"
   ],
   "outputs": [],
   "metadata": {}
  },
  {
   "cell_type": "markdown",
   "source": [
    "SUMMARAZING OPERATORS"
   ],
   "metadata": {}
  },
  {
   "cell_type": "code",
   "execution_count": null,
   "source": [
    "df.MSRP.describe() # STATISTICAL VALUES\r\n",
    "\r\n",
    "df.describe().round(2)"
   ],
   "outputs": [],
   "metadata": {}
  },
  {
   "cell_type": "markdown",
   "source": [
    "df.nunique()"
   ],
   "metadata": {}
  },
  {
   "cell_type": "code",
   "execution_count": null,
   "source": [
    "df.nunique() # UNIQUE VALUES"
   ],
   "outputs": [],
   "metadata": {}
  },
  {
   "cell_type": "code",
   "execution_count": null,
   "source": [
    "df.isnull().sum() # HOW MANY NULLS ?"
   ],
   "outputs": [],
   "metadata": {}
  },
  {
   "cell_type": "markdown",
   "source": [
    "GROUPING"
   ],
   "metadata": {}
  },
  {
   "cell_type": "code",
   "execution_count": null,
   "source": [
    "\r\n",
    "# SELECT\r\n",
    "#     tranmission_type,\r\n",
    "#     AVG(MSRP)\r\n",
    "# FROM \r\n",
    "#     cars\r\n",
    "# GROUP BY\r\n",
    "#     transmission_type\r\n",
    "\r\n",
    "df.groupby('Transmission Type').MSRP.min();\r\n",
    "\r\n",
    "df.MSRP.values;"
   ],
   "outputs": [],
   "metadata": {}
  },
  {
   "cell_type": "code",
   "execution_count": null,
   "source": [
    "display(df.MSRP.values);"
   ],
   "outputs": [],
   "metadata": {}
  },
  {
   "cell_type": "code",
   "execution_count": null,
   "source": [
    "df.to_dict(orient='records')"
   ],
   "outputs": [],
   "metadata": {}
  },
  {
   "cell_type": "code",
   "execution_count": null,
   "source": [
    "df[ # returns only true values (after 2015)\r\n",
    "    df['Model'] == 'BMW'  #returns a binary series \r\n",
    "]"
   ],
   "outputs": [],
   "metadata": {}
  }
 ],
 "metadata": {
  "orig_nbformat": 4,
  "language_info": {
   "name": "python",
   "version": "3.9.2",
   "mimetype": "text/x-python",
   "codemirror_mode": {
    "name": "ipython",
    "version": 3
   },
   "pygments_lexer": "ipython3",
   "nbconvert_exporter": "python",
   "file_extension": ".py"
  },
  "kernelspec": {
   "name": "python3",
   "display_name": "Python 3.9.2 64-bit"
  },
  "interpreter": {
   "hash": "468f25ad0239460415b7e6b7483d5c8f7213894121f6fb96c4cb6ef93fffe534"
  }
 },
 "nbformat": 4,
 "nbformat_minor": 2
}