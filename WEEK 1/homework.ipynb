{
 "cells": [
  {
   "cell_type": "code",
   "execution_count": null,
   "source": [
    "import pandas as pd\r\n",
    "\r\n",
    "\r\n",
    "url = \"https://raw.githubusercontent.com/alexeygrigorev/mlbookcamp-code/master/chapter-02-car-price/data.csv\"\r\n",
    "\r\n",
    "database_cars = pd.read_csv(url)\r\n",
    "\r\n",
    "display(database_cars)"
   ],
   "outputs": [],
   "metadata": {}
  },
  {
   "cell_type": "markdown",
   "source": [],
   "metadata": {}
  },
  {
   "cell_type": "code",
   "execution_count": null,
   "source": [
    "display(database_cars)"
   ],
   "outputs": [],
   "metadata": {}
  },
  {
   "cell_type": "code",
   "execution_count": null,
   "source": [
    "mean_df = database_cars['MSRP'].mean()\r\n",
    "\r\n",
    "\r\n",
    "display(mean_df)"
   ],
   "outputs": [],
   "metadata": {}
  },
  {
   "cell_type": "code",
   "execution_count": null,
   "source": [
    "\r\n",
    "database_cars.loc[database_cars['Make']=='BMW','MSRP'].mean()"
   ],
   "outputs": [],
   "metadata": {}
  },
  {
   "cell_type": "code",
   "execution_count": null,
   "source": [
    "\r\n",
    "\r\n",
    "database_cars[database_cars.Make == 'BMW'].MSRP.mean()"
   ],
   "outputs": [],
   "metadata": {}
  },
  {
   "cell_type": "markdown",
   "source": [
    "Question 4: Number of missing values in \"Engine HP\" after 2015 (including 2015) *"
   ],
   "metadata": {}
  },
  {
   "cell_type": "code",
   "execution_count": null,
   "source": [
    "database_cars['Engine HP'].isnull().sum\r\n",
    "\r\n",
    "\r\n",
    "database_cars[ # returns only true values (after 2015)\r\n",
    "   database_cars['Year'] >= 2015 #returns a binary series \r\n",
    "].isnull().sum()"
   ],
   "outputs": [],
   "metadata": {}
  },
  {
   "cell_type": "code",
   "execution_count": null,
   "source": [
    "database_cars.isnull().sum()\r\n"
   ],
   "outputs": [],
   "metadata": {}
  },
  {
   "cell_type": "code",
   "execution_count": null,
   "source": [
    "database_cars[database_cars.Year>= 2015]['Engine HP'].isnull().sum()"
   ],
   "outputs": [],
   "metadata": {}
  },
  {
   "cell_type": "markdown",
   "source": [],
   "metadata": {}
  },
  {
   "cell_type": "code",
   "execution_count": null,
   "source": [
    "\r\n",
    "database_cars[database_cars['Engine HP'].isnull()]\r\n",
    "\r\n",
    "# AVG 249.38\r\n",
    "\r\n"
   ],
   "outputs": [],
   "metadata": {}
  },
  {
   "cell_type": "code",
   "execution_count": null,
   "source": [
    "\r\n",
    "database_cars.loc[database_cars['Make']=='BMW','MSRP'].mean()\r\n"
   ],
   "outputs": [],
   "metadata": {}
  },
  {
   "cell_type": "code",
   "execution_count": null,
   "source": [
    "\r\n",
    "newdf=database_cars;\r\n",
    "\r\n"
   ],
   "outputs": [],
   "metadata": {}
  },
  {
   "cell_type": "code",
   "execution_count": null,
   "source": [
    "database_cars['Engine HP'].fillna(database_cars['Engine HP'].mean(),inplace=True)\r\n",
    "\r\n"
   ],
   "outputs": [],
   "metadata": {}
  },
  {
   "cell_type": "code",
   "execution_count": null,
   "source": [
    "\r\n",
    "database_cars['Engine HP'].mean()"
   ],
   "outputs": [],
   "metadata": {}
  },
  {
   "cell_type": "code",
   "execution_count": null,
   "source": [
    "\r\n",
    "database_cars.loc[database_cars['Make']=='Rolls-Royce']\r\n"
   ],
   "outputs": [],
   "metadata": {}
  },
  {
   "cell_type": "code",
   "execution_count": null,
   "source": [
    "\r\n",
    "NW=database_cars.loc[\r\n",
    "    database_cars['Make']=='Rolls-Royce',['Engine HP','Engine Cylinders','highway MPG']\r\n",
    "]\r\n",
    "\r\n",
    "DS=NW.drop_duplicates()\r\n",
    "\r\n",
    "\r\n",
    "display(DS)\r\n"
   ],
   "outputs": [],
   "metadata": {}
  },
  {
   "cell_type": "code",
   "execution_count": null,
   "source": [
    "import numpy as np\r\n",
    "\r\n",
    "X= DS.to_numpy()\r\n",
    "\r\n",
    "\r\n",
    "display(X);\r\n",
    "\r\n"
   ],
   "outputs": [],
   "metadata": {}
  },
  {
   "cell_type": "code",
   "execution_count": null,
   "source": [
    "T=X.transpose()\r\n",
    "\r\n",
    "# THIS IS CORRECT\r\n",
    "XTX = T.dot(X)\r\n",
    "display(XTX)"
   ],
   "outputs": [],
   "metadata": {}
  },
  {
   "cell_type": "code",
   "execution_count": null,
   "source": [
    "XTX_inv = np.linalg.inv(XTX)\r\n",
    "\r\n",
    "XTX_inv.sum()\r\n",
    "\r\n",
    "y=[1000,1100,900,1200,1000,850,1300]"
   ],
   "outputs": [],
   "metadata": {}
  },
  {
   "cell_type": "markdown",
   "source": [
    "LINEAR REGRESSION\r\n",
    "\r\n",
    "$$W=(X^T X)^{-1} * X^T Y$$\r\n"
   ],
   "metadata": {}
  },
  {
   "cell_type": "code",
   "execution_count": null,
   "source": [
    "W= XTX_inv.dot(T).dot(y)\r\n",
    "\r\n",
    "display(W)"
   ],
   "outputs": [],
   "metadata": {}
  },
  {
   "cell_type": "code",
   "execution_count": null,
   "source": [
    "display(T)"
   ],
   "outputs": [],
   "metadata": {}
  }
 ],
 "metadata": {
  "orig_nbformat": 4,
  "language_info": {
   "name": "python",
   "version": "3.9.2",
   "mimetype": "text/x-python",
   "codemirror_mode": {
    "name": "ipython",
    "version": 3
   },
   "pygments_lexer": "ipython3",
   "nbconvert_exporter": "python",
   "file_extension": ".py"
  },
  "kernelspec": {
   "name": "python3",
   "display_name": "Python 3.9.2 64-bit"
  },
  "interpreter": {
   "hash": "468f25ad0239460415b7e6b7483d5c8f7213894121f6fb96c4cb6ef93fffe534"
  }
 },
 "nbformat": 4,
 "nbformat_minor": 2
}