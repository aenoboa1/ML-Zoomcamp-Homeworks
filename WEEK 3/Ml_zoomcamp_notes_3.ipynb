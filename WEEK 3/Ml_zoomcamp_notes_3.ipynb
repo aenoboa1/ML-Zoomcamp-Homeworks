{
 "cells": [
  {
   "cell_type": "code",
   "execution_count": null,
   "source": [
    "import pandas as pd\r\n",
    "import numpy as np\r\n",
    "import matplotlib.pyplot as plt\r\n",
    "\r\n",
    "data = 'https://raw.githubusercontent.com/alexeygrigorev/mlbookcamp-code/master/chapter-03-churn-prediction/WA_Fn-UseC_-Telco-Customer-Churn.csv'\r\n",
    "\r\n",
    "!wget $data -O data-week-3.csv\r\n"
   ],
   "outputs": [],
   "metadata": {}
  },
  {
   "cell_type": "code",
   "execution_count": null,
   "source": [
    "\r\n",
    "df = pd.read_csv('data-week-3.csv')\r\n",
    "\r\n",
    "# transpose the data frame\r\n",
    "df.head().T"
   ],
   "outputs": [],
   "metadata": {}
  },
  {
   "cell_type": "markdown",
   "source": [
    "<H2> DATA PREPARATION</H2>"
   ],
   "metadata": {}
  },
  {
   "cell_type": "code",
   "execution_count": null,
   "source": [
    "df.columns = df.columns.str.lower().str.replace(\" \",\"_\")\r\n",
    "\r\n",
    "categorical_columns = list(df.dtypes[df.dtypes== 'object'].index)\r\n",
    "\r\n",
    "for c in categorical_columns:\r\n",
    "    df[c] = df[c].str.lower().str.replace(\" \",\"_\")"
   ],
   "outputs": [],
   "metadata": {}
  },
  {
   "cell_type": "code",
   "execution_count": null,
   "source": [
    "df.head().T"
   ],
   "outputs": [],
   "metadata": {}
  },
  {
   "cell_type": "code",
   "execution_count": null,
   "source": [
    "tc= pd.to_numeric(df.totalcharges,errors = 'coerce') #ignore erros"
   ],
   "outputs": [],
   "metadata": {}
  },
  {
   "cell_type": "code",
   "execution_count": null,
   "source": [
    "df.totalcharges = df.totalcharges.fillna(0)"
   ],
   "outputs": [],
   "metadata": {}
  },
  {
   "cell_type": "code",
   "execution_count": null,
   "source": [
    "df.churn # transform yes,no to 0 and 1 respectively\r\n",
    "\r\n",
    "df.churn = (df.churn == 'yes').astype(int)\r\n"
   ],
   "outputs": [],
   "metadata": {}
  },
  {
   "cell_type": "code",
   "execution_count": null,
   "source": [
    "from sklearn.model_selection import train_test_split"
   ],
   "outputs": [],
   "metadata": {}
  },
  {
   "cell_type": "code",
   "execution_count": null,
   "source": [
    "df_full_train , df_test =train_test_split(df,test_size=0.2,random_state=1) # Using 20% test Size\r\n"
   ],
   "outputs": [],
   "metadata": {}
  },
  {
   "cell_type": "code",
   "execution_count": null,
   "source": [
    "len(df_full_train),len(df_test)"
   ],
   "outputs": [],
   "metadata": {}
  },
  {
   "cell_type": "code",
   "execution_count": null,
   "source": [
    "# validation data set of full train \r\n",
    "# 20/80 = 1/4 = 25% of full train data set\r\n",
    "\r\n",
    "df_train , df_val = train_test_split(df_full_train,test_size=0.25,random_state=1) # Using 20% test Size\r\n"
   ],
   "outputs": [],
   "metadata": {}
  },
  {
   "cell_type": "code",
   "execution_count": null,
   "source": [
    "len(df_train) , len(df_val) , len (df_test) # refer to img 1"
   ],
   "outputs": [],
   "metadata": {}
  },
  {
   "cell_type": "code",
   "execution_count": null,
   "source": [
    "df_train= df_train.reset_index(drop=True) # not necessary for models to work\r\n",
    "df_val = df_val.reset_index(drop=True) # not necessary for models to work\r\n",
    "df_test = df_test.reset_index(drop=True) # not necessary for models to work"
   ],
   "outputs": [],
   "metadata": {}
  },
  {
   "cell_type": "code",
   "execution_count": null,
   "source": [
    "y_train = df_train.churn.values\r\n",
    "y_val = df_val.churn.values\r\n",
    "y_test = df_test.churn.values"
   ],
   "outputs": [],
   "metadata": {}
  },
  {
   "cell_type": "code",
   "execution_count": null,
   "source": [
    "del df_train['churn']\r\n",
    "del df_val['churn']\r\n",
    "del df_test['churn']\r\n",
    "\r\n",
    "# TODO check why df_full_train's churn wasn't deleted. "
   ],
   "outputs": [],
   "metadata": {}
  },
  {
   "cell_type": "markdown",
   "source": [
    "<h1> 3.4 EDA\r\n",
    "</h1>"
   ],
   "metadata": {}
  },
  {
   "cell_type": "markdown",
   "source": [
    "<li>Check missing values\r\n",
    " </li>\r\n",
    "<li>Look at the target variable (churn)\r\n",
    " </li>\r\n",
    "<li>Look at numerical and categorical variables\r\n",
    " </li>"
   ],
   "metadata": {}
  },
  {
   "cell_type": "code",
   "execution_count": null,
   "source": [
    "df_full_train = df_full_train.reset_index(drop=True)"
   ],
   "outputs": [],
   "metadata": {}
  },
  {
   "cell_type": "code",
   "execution_count": null,
   "source": [
    "df_full_train.isnull().sum()"
   ],
   "outputs": [],
   "metadata": {}
  },
  {
   "cell_type": "code",
   "execution_count": null,
   "source": [
    "df_full_train.churn.value_counts(normalize=True) # counts ammount of churns and checks porcentage with normalize\r\n",
    "# CHURN RATE -> YES = 0.27 %"
   ],
   "outputs": [],
   "metadata": {}
  },
  {
   "cell_type": "code",
   "execution_count": null,
   "source": [
    "df_full_train.churn.mean()"
   ],
   "outputs": [],
   "metadata": {}
  },
  {
   "cell_type": "code",
   "execution_count": null,
   "source": [
    "df_full_train.churn.value_counts()"
   ],
   "outputs": [],
   "metadata": {}
  },
  {
   "cell_type": "code",
   "execution_count": null,
   "source": [
    "global_churn_rate = df_full_train.churn.mean()\r\n",
    "round(global_churn_rate,2)"
   ],
   "outputs": [],
   "metadata": {}
  },
  {
   "cell_type": "code",
   "execution_count": null,
   "source": [
    "df_full_train.dtypes"
   ],
   "outputs": [],
   "metadata": {}
  },
  {
   "cell_type": "code",
   "execution_count": null,
   "source": [
    "# 3 numerical variables\r\n",
    "# tenure , montly charges , total charges \r\n",
    "\r\n",
    "numerical = ['tenure','montlycharges','totalcharges']\r\n",
    "df_full_train.columns"
   ],
   "outputs": [],
   "metadata": {}
  },
  {
   "cell_type": "code",
   "execution_count": null,
   "source": [
    "categorical = [    'gender',\r\n",
    "    'seniorcitizen',\r\n",
    "    'partner',\r\n",
    "    'dependents',\r\n",
    "    'phoneservice',\r\n",
    "    'multiplelines',\r\n",
    "    'internetservice',\r\n",
    "    'onlinesecurity',\r\n",
    "    'onlinebackup',\r\n",
    "    'deviceprotection',\r\n",
    "    'techsupport',\r\n",
    "    'streamingtv',\r\n",
    "    'streamingmovies',\r\n",
    "    'contract',\r\n",
    "    'paperlessbilling',\r\n",
    "    'paymentmethod',\r\n",
    "]\r\n"
   ],
   "outputs": [],
   "metadata": {}
  },
  {
   "cell_type": "code",
   "execution_count": null,
   "source": [
    "df_full_train[categorial].nunique() # most of them are binary"
   ],
   "outputs": [],
   "metadata": {}
  },
  {
   "cell_type": "code",
   "execution_count": null,
   "source": [
    "df_full_train.head()\r\n"
   ],
   "outputs": [],
   "metadata": {}
  },
  {
   "cell_type": "code",
   "execution_count": null,
   "source": [
    "churn_female = df_full_train[df_full_train.gender == 'female'].churn.mean()\r\n",
    "churn_female"
   ],
   "outputs": [],
   "metadata": {}
  },
  {
   "cell_type": "code",
   "execution_count": null,
   "source": [
    "churn_male = df_full_train[df_full_train.gender == 'male'].churn.mean()\r\n",
    "churn_male"
   ],
   "outputs": [],
   "metadata": {}
  },
  {
   "cell_type": "code",
   "execution_count": null,
   "source": [
    "global_churn = df_full_train.churn.mean()\r\n",
    "global_churn"
   ],
   "outputs": [],
   "metadata": {}
  },
  {
   "cell_type": "code",
   "execution_count": null,
   "source": [
    "df_full_train.partner.value_counts()"
   ],
   "outputs": [],
   "metadata": {}
  },
  {
   "cell_type": "code",
   "execution_count": null,
   "source": [
    "churn_partner = df_full_train[df_full_train.partner == 'yes'].churn.mean()\r\n",
    "churn_partner # 5% less than the global rate"
   ],
   "outputs": [],
   "metadata": {}
  },
  {
   "cell_type": "code",
   "execution_count": null,
   "source": [
    "churn_partner_no = df_full_train[df_full_train.partner == 'no'].churn.mean()\r\n",
    "churn_partner_no # 10% more than the global rate"
   ],
   "outputs": [],
   "metadata": {}
  },
  {
   "cell_type": "code",
   "execution_count": null,
   "source": [
    "global_churn - churn_partner"
   ],
   "outputs": [],
   "metadata": {}
  },
  {
   "cell_type": "code",
   "execution_count": null,
   "source": [
    "global_churn - churn_partner_no"
   ],
   "outputs": [],
   "metadata": {}
  },
  {
   "cell_type": "code",
   "execution_count": null,
   "source": [
    "# gender doesn't really matter , but the existence of a partner does change the result of churns"
   ],
   "outputs": [],
   "metadata": {}
  },
  {
   "cell_type": "code",
   "execution_count": null,
   "source": [
    "churn_partner_no / global_churn # Number that's higher than 1, people without a partner are more likely to churn\r\n",
    "\r\n"
   ],
   "outputs": [],
   "metadata": {}
  },
  {
   "cell_type": "code",
   "execution_count": null,
   "source": [
    "churn_partner/ global_churn"
   ],
   "outputs": [],
   "metadata": {}
  },
  {
   "cell_type": "markdown",
   "source": [
    "$$ RISK = \\frac{GROUP}{GLOBAL} $$\r\n",
    " <li> > 1 More likely to Chrun </li>\r\n",
    " <li> < 1 less likely to Chrun </li>"
   ],
   "metadata": {}
  },
  {
   "cell_type": "markdown",
   "source": [
    "SQL code to translate to python:\r\n",
    "~~~~sql\r\n",
    "SELECT\r\n",
    "    gender,\r\n",
    "    AVG(churn),\r\n",
    "    AVG(churn) - global_churn AS diff,\r\n",
    "    AVG(churn) / global_churn AS risk\r\n",
    "FROM \r\n",
    "    data\r\n",
    "GROUP by\r\n",
    "    gender;\r\n",
    "~~~~\r\n",
    "\r\n"
   ],
   "metadata": {}
  },
  {
   "cell_type": "code",
   "execution_count": null,
   "source": [
    "df_group = df_full_train.groupby('gender').churn.agg(['mean','count'])\r\n",
    "df_group['diff'] = df_group['mean'] - global_churn  # ADDING COLUMNS\r\n",
    "df_group['risk'] = df_group['mean'] / global_churn # ADDING COLUMNS\r\n",
    "df_group"
   ],
   "outputs": [],
   "metadata": {}
  },
  {
   "cell_type": "code",
   "execution_count": null,
   "source": [
    "# for each column in categorical do this agregation\r\n",
    "for c in categorical:\r\n",
    "    print(c)\r\n",
    "    df_group = df_full_train.groupby(c).churn.agg(['mean','count'])\r\n",
    "    df_group['diff'] = df_group['mean'] - global_churn  # ADDING COLUMNS\r\n",
    "    df_group['risk'] = df_group['mean'] / global_churn # ADDING COLUMNS\r\n",
    "    display(df_group)\r\n",
    "    \r\n",
    "\r\n"
   ],
   "outputs": [],
   "metadata": {}
  },
  {
   "cell_type": "markdown",
   "source": [
    "<h1> 3.6 Feature Importance - Mutual information</h1>"
   ],
   "metadata": {}
  },
  {
   "cell_type": "markdown",
   "source": [
    "Mutual information - concept from information theory, it tells us how much we can learn about one variable if we know the value of another\r\n",
    "\r\n"
   ],
   "metadata": {}
  },
  {
   "cell_type": "code",
   "execution_count": null,
   "source": [
    "from sklearn.metrics import mutual_info_score"
   ],
   "outputs": [],
   "metadata": {}
  },
  {
   "cell_type": "code",
   "execution_count": null,
   "source": [
    "mutual_info_score(df_full_train.churn,df_full_train.contract) # mutual information score"
   ],
   "outputs": [],
   "metadata": {}
  },
  {
   "cell_type": "code",
   "execution_count": null,
   "source": [
    "mutual_info_score(df_full_train.totalcharges,df_full_train.churn) # mutual information score"
   ],
   "outputs": [],
   "metadata": {}
  },
  {
   "cell_type": "code",
   "execution_count": null,
   "source": [
    "def mutual_info_churn_score(series):\r\n",
    "    return mutual_info_score(series,df_full_train.churn)"
   ],
   "outputs": [],
   "metadata": {}
  },
  {
   "cell_type": "code",
   "execution_count": null,
   "source": [
    "df_full_train[categorical].apply(mutual_info_churn_score)"
   ],
   "outputs": [],
   "metadata": {}
  },
  {
   "cell_type": "code",
   "execution_count": 90,
   "source": [
    "#SORT BY ASC\r\n",
    "\r\n",
    "mi = df_full_train[categorical].apply(mutual_info_churn_score)\r\n",
    "mi.sort_values(ascending=False)"
   ],
   "outputs": [
    {
     "output_type": "execute_result",
     "data": {
      "text/plain": [
       "contract            0.098320\n",
       "onlinesecurity      0.063085\n",
       "techsupport         0.061032\n",
       "internetservice     0.055868\n",
       "onlinebackup        0.046923\n",
       "deviceprotection    0.043453\n",
       "paymentmethod       0.043210\n",
       "streamingtv         0.031853\n",
       "streamingmovies     0.031581\n",
       "paperlessbilling    0.017589\n",
       "dependents          0.012346\n",
       "partner             0.009968\n",
       "seniorcitizen       0.009410\n",
       "multiplelines       0.000857\n",
       "phoneservice        0.000229\n",
       "gender              0.000117\n",
       "dtype: float64"
      ]
     },
     "metadata": {},
     "execution_count": 90
    }
   ],
   "metadata": {}
  }
 ],
 "metadata": {
  "orig_nbformat": 4,
  "language_info": {
   "name": "python",
   "version": "3.9.2",
   "mimetype": "text/x-python",
   "codemirror_mode": {
    "name": "ipython",
    "version": 3
   },
   "pygments_lexer": "ipython3",
   "nbconvert_exporter": "python",
   "file_extension": ".py"
  },
  "kernelspec": {
   "name": "python3",
   "display_name": "Python 3.9.2 64-bit"
  },
  "interpreter": {
   "hash": "468f25ad0239460415b7e6b7483d5c8f7213894121f6fb96c4cb6ef93fffe534"
  }
 },
 "nbformat": 4,
 "nbformat_minor": 2
}