{
 "cells": [
  {
   "cell_type": "markdown",
   "source": [
    "New York City Airbnb Open Data"
   ],
   "metadata": {}
  },
  {
   "cell_type": "code",
   "execution_count": 45,
   "source": [
    "import pandas as pd\r\n",
    "import numpy as np\r\n",
    "import matplotlib.pyplot as plt\r\n",
    "import seaborn as sns\r\n",
    "\r\n",
    "data = 'https://raw.githubusercontent.com/alexeygrigorev/datasets/master/AB_NYC_2019.csv'\r\n",
    "\r\n",
    "!wget $data -O data-homework.csv\r\n"
   ],
   "outputs": [
    {
     "output_type": "stream",
     "name": "stderr",
     "text": [
      "--2021-09-26 22:49:14--  https://raw.githubusercontent.com/alexeygrigorev/datasets/master/AB_NYC_2019.csv\n",
      "Resolving raw.githubusercontent.com (raw.githubusercontent.com)... 185.199.109.133, 185.199.110.133, 185.199.111.133, ...\n",
      "Connecting to raw.githubusercontent.com (raw.githubusercontent.com)|185.199.109.133|:443... connected.\n",
      "HTTP request sent, awaiting response... 200 OK\n",
      "Length: 7077973 (6.8M) [text/plain]\n",
      "Saving to: 'data-homework.csv'\n",
      "\n",
      "     0K .......... .......... .......... .......... ..........  0%  628K 11s\n",
      "    50K .......... .......... .......... .......... ..........  1% 1.64M 7s\n",
      "   100K .......... .......... .......... .......... ..........  2% 1.01M 7s\n",
      "   150K .......... .......... .......... .......... ..........  2% 3.05M 6s\n",
      "   200K .......... .......... .......... .......... ..........  3% 3.79M 5s\n",
      "   250K .......... .......... .......... .......... ..........  4% 1.15M 5s\n",
      "   300K .......... .......... .......... .......... ..........  5% 5.59M 4s\n",
      "   350K .......... .......... .......... .......... ..........  5% 6.31M 4s\n",
      "   400K .......... .......... .......... .......... ..........  6% 6.93M 4s\n",
      "   450K .......... .......... .......... .......... ..........  7% 7.14M 3s\n",
      "   500K .......... .......... .......... .......... ..........  7% 1.22M 3s\n",
      "   550K .......... .......... .......... .......... ..........  8% 4.46M 3s\n",
      "   600K .......... .......... .......... .......... ..........  9% 7.83M 3s\n",
      "   650K .......... .......... .......... .......... .......... 10% 5.11M 3s\n",
      "   700K .......... .......... .......... .......... .......... 10% 8.63M 3s\n",
      "   750K .......... .......... .......... .......... .......... 11% 1.21M 3s\n",
      "   800K .......... .......... .......... .......... .......... 12% 4.39M 3s\n",
      "   850K .......... .......... .......... .......... .......... 13% 8.28M 3s\n",
      "   900K .......... .......... .......... .......... .......... 13% 6.98M 2s\n",
      "   950K .......... .......... .......... .......... .......... 14% 8.73M 2s\n",
      "  1000K .......... .......... .......... .......... .......... 15% 9.20M 2s\n",
      "  1050K .......... .......... .......... .......... .......... 15% 7.33M 2s\n",
      "  1100K .......... .......... .......... .......... .......... 16% 10.1M 2s\n",
      "  1150K .......... .......... .......... .......... .......... 17% 9.02M 2s\n",
      "  1200K .......... .......... .......... .......... .......... 18% 9.73M 2s\n",
      "  1250K .......... .......... .......... .......... .......... 18% 3.88M 2s\n",
      "  1300K .......... .......... .......... .......... .......... 19% 7.08M 2s\n",
      "  1350K .......... .......... .......... .......... .......... 20% 9.59M 2s\n",
      "  1400K .......... .......... .......... .......... .......... 20% 9.34M 2s\n",
      "  1450K .......... .......... .......... .......... .......... 21% 7.09M 2s\n",
      "  1500K .......... .......... .......... .......... .......... 22% 9.78M 2s\n",
      "  1550K .......... .......... .......... .......... .......... 23% 9.37M 2s\n",
      "  1600K .......... .......... .......... .......... .......... 23% 9.01M 2s\n",
      "  1650K .......... .......... .......... .......... .......... 24% 8.98M 1s\n",
      "  1700K .......... .......... .......... .......... .......... 25% 10.0M 1s\n",
      "  1750K .......... .......... .......... .......... .......... 26% 9.53M 1s\n",
      "  1800K .......... .......... .......... .......... .......... 26% 9.48M 1s\n",
      "  1850K .......... .......... .......... .......... .......... 27% 4.15M 1s\n",
      "  1900K .......... .......... .......... .......... .......... 28% 7.33M 1s\n",
      "  1950K .......... .......... .......... .......... .......... 28% 29.4M 1s\n",
      "  2000K .......... .......... .......... .......... .......... 29% 11.6M 1s\n",
      "  2050K .......... .......... .......... .......... .......... 30% 13.2M 1s\n",
      "  2100K .......... .......... .......... .......... .......... 31% 7.25M 1s\n",
      "  2150K .......... .......... .......... .......... .......... 31% 12.4M 1s\n",
      "  2200K .......... .......... .......... .......... .......... 32% 9.91M 1s\n",
      "  2250K .......... .......... .......... .......... .......... 33% 7.11M 1s\n",
      "  2300K .......... .......... .......... .......... .......... 33% 9.88M 1s\n",
      "  2350K .......... .......... .......... .......... .......... 34% 9.36M 1s\n",
      "  2400K .......... .......... .......... .......... .......... 35% 8.98M 1s\n",
      "  2450K .......... .......... .......... .......... .......... 36% 5.54M 1s\n",
      "  2500K .......... .......... .......... .......... .......... 36% 25.3M 1s\n",
      "  2550K .......... .......... .......... .......... .......... 37% 10.4M 1s\n",
      "  2600K .......... .......... .......... .......... .......... 38% 8.62M 1s\n",
      "  2650K .......... .......... .......... .......... .......... 39% 7.68M 1s\n",
      "  2700K .......... .......... .......... .......... .......... 39% 9.78M 1s\n",
      "  2750K .......... .......... .......... .......... .......... 40% 4.72M 1s\n",
      "  2800K .......... .......... .......... .......... .......... 41% 43.8M 1s\n",
      "  2850K .......... .......... .......... .......... .......... 41% 11.5M 1s\n",
      "  2900K .......... .......... .......... .......... .......... 42% 9.04M 1s\n",
      "  2950K .......... .......... .......... .......... .......... 43% 9.96M 1s\n",
      "  3000K .......... .......... .......... .......... .......... 44% 8.41M 1s\n",
      "  3050K .......... .......... .......... .......... .......... 44% 7.77M 1s\n",
      "  3100K .......... .......... .......... .......... .......... 45% 9.02M 1s\n",
      "  3150K .......... .......... .......... .......... .......... 46% 9.83M 1s\n",
      "  3200K .......... .......... .......... .......... .......... 47% 8.71M 1s\n",
      "  3250K .......... .......... .......... .......... .......... 47% 10.3M 1s\n",
      "  3300K .......... .......... .......... .......... .......... 48% 8.84M 1s\n",
      "  3350K .......... .......... .......... .......... .......... 49% 8.63M 1s\n",
      "  3400K .......... .......... .......... .......... .......... 49% 10.8M 1s\n",
      "  3450K .......... .......... .......... .......... .......... 50% 7.22M 1s\n",
      "  3500K .......... .......... .......... .......... .......... 51% 8.48M 1s\n",
      "  3550K .......... .......... .......... .......... .......... 52% 9.69M 1s\n",
      "  3600K .......... .......... .......... .......... .......... 52% 9.87M 1s\n",
      "  3650K .......... .......... .......... .......... .......... 53% 8.43M 1s\n",
      "  3700K .......... .......... .......... .......... .......... 54% 10.4M 1s\n",
      "  3750K .......... .......... .......... .......... .......... 54% 9.57M 1s\n",
      "  3800K .......... .......... .......... .......... .......... 55% 8.69M 1s\n",
      "  3850K .......... .......... .......... .......... .......... 56% 7.72M 1s\n",
      "  3900K .......... .......... .......... .......... .......... 57% 9.30M 1s\n",
      "  3950K .......... .......... .......... .......... .......... 57% 8.50M 1s\n",
      "  4000K .......... .......... .......... .......... .......... 58% 10.9M 1s\n",
      "  4050K .......... .......... .......... .......... .......... 59% 8.85M 1s\n",
      "  4100K .......... .......... .......... .......... .......... 60% 8.81M 1s\n",
      "  4150K .......... .......... .......... .......... .......... 60% 10.5M 0s\n",
      "  4200K .......... .......... .......... .......... .......... 61% 9.21M 0s\n",
      "  4250K .......... .......... .......... .......... .......... 62% 6.77M 0s\n",
      "  4300K .......... .......... .......... .......... .......... 62% 9.46M 0s\n",
      "  4350K .......... .......... .......... .......... .......... 63% 10.2M 0s\n",
      "  4400K .......... .......... .......... .......... .......... 64% 6.72M 0s\n",
      "  4450K .......... .......... .......... .......... .......... 65% 3.95M 0s\n",
      "  4500K .......... .......... .......... .......... .......... 65% 13.1M 0s\n",
      "  4550K .......... .......... .......... .......... .......... 66% 5.94M 0s\n",
      "  4600K .......... .......... .......... .......... .......... 67% 6.15M 0s\n",
      "  4650K .......... .......... .......... .......... .......... 67% 75.2M 0s\n",
      "  4700K .......... .......... .......... .......... .......... 68% 15.6M 0s\n",
      "  4750K .......... .......... .......... .......... .......... 69% 47.2M 0s\n",
      "  4800K .......... .......... .......... .......... .......... 70% 7.76M 0s\n",
      "  4850K .......... .......... .......... .......... .......... 70% 13.6M 0s\n",
      "  4900K .......... .......... .......... .......... .......... 71% 9.54M 0s\n",
      "  4950K .......... .......... .......... .......... .......... 72% 9.68M 0s\n",
      "  5000K .......... .......... .......... .......... .......... 73% 9.59M 0s\n",
      "  5050K .......... .......... .......... .......... .......... 73% 7.26M 0s\n",
      "  5100K .......... .......... .......... .......... .......... 74% 9.38M 0s\n",
      "  5150K .......... .......... .......... .......... .......... 75% 9.68M 0s\n",
      "  5200K .......... .......... .......... .......... .......... 75% 8.29M 0s\n",
      "  5250K .......... .......... .......... .......... .......... 76% 10.5M 0s\n",
      "  5300K .......... .......... .......... .......... .......... 77% 9.41M 0s\n",
      "  5350K .......... .......... .......... .......... .......... 78% 4.38M 0s\n",
      "  5400K .......... .......... .......... .......... .......... 78% 4.29M 0s\n",
      "  5450K .......... .......... .......... .......... .......... 79% 10.1M 0s\n",
      "  5500K .......... .......... .......... .......... .......... 80% 14.8M 0s\n",
      "  5550K .......... .......... .......... .......... .......... 81% 12.8M 0s\n",
      "  5600K .......... .......... .......... .......... .......... 81% 40.1M 0s\n",
      "  5650K .......... .......... .......... .......... .......... 82% 17.6M 0s\n",
      "  5700K .......... .......... .......... .......... .......... 83% 10.1M 0s\n",
      "  5750K .......... .......... .......... .......... .......... 83% 9.64M 0s\n",
      "  5800K .......... .......... .......... .......... .......... 84% 7.79M 0s\n",
      "  5850K .......... .......... .......... .......... .......... 85% 7.93M 0s\n",
      "  5900K .......... .......... .......... .......... .......... 86% 9.89M 0s\n",
      "  5950K .......... .......... .......... .......... .......... 86% 8.91M 0s\n",
      "  6000K .......... .......... .......... .......... .......... 87% 10.3M 0s\n",
      "  6050K .......... .......... .......... .......... .......... 88% 9.01M 0s\n",
      "  6100K .......... .......... .......... .......... .......... 88% 8.58M 0s\n",
      "  6150K .......... .......... .......... .......... .......... 89% 4.26M 0s\n",
      "  6200K .......... .......... .......... .......... .......... 90% 22.7M 0s\n",
      "  6250K .......... .......... .......... .......... .......... 91% 8.26M 0s\n",
      "  6300K .......... .......... .......... .......... .......... 91% 14.8M 0s\n",
      "  6350K .......... .......... .......... .......... .......... 92% 11.8M 0s\n",
      "  6400K .......... .......... .......... .......... .......... 93% 9.32M 0s\n",
      "  6450K .......... .......... .......... .......... .......... 94% 7.03M 0s\n",
      "  6500K .......... .......... .......... .......... .......... 94% 14.0M 0s\n",
      "  6550K .......... .......... .......... .......... .......... 95% 9.38M 0s\n",
      "  6600K .......... .......... .......... .......... .......... 96% 6.89M 0s\n",
      "  6650K .......... .......... .......... .......... .......... 96% 10.0M 0s\n",
      "  6700K .......... .......... .......... .......... .......... 97% 9.24M 0s\n",
      "  6750K .......... .......... .......... .......... .......... 98% 5.44M 0s\n",
      "  6800K .......... .......... .......... .......... .......... 99% 34.3M 0s\n",
      "  6850K .......... .......... .......... .......... .......... 99% 7.62M 0s\n",
      "  6900K .......... ..                                         100%  137M=1.0s\n",
      "\n",
      "2021-09-26 22:49:15 (6.43 MB/s) - 'data-homework.csv' saved [7077973/7077973]\n",
      "\n"
     ]
    }
   ],
   "metadata": {}
  },
  {
   "cell_type": "markdown",
   "source": [
    "<H2> DATA PREPARATION</H2>"
   ],
   "metadata": {}
  },
  {
   "cell_type": "code",
   "execution_count": 46,
   "source": [
    "df = pd.read_csv('data-homework.csv')\r\n",
    "\r\n",
    "df.head()"
   ],
   "outputs": [
    {
     "output_type": "execute_result",
     "data": {
      "text/html": [
       "<div>\n",
       "<style scoped>\n",
       "    .dataframe tbody tr th:only-of-type {\n",
       "        vertical-align: middle;\n",
       "    }\n",
       "\n",
       "    .dataframe tbody tr th {\n",
       "        vertical-align: top;\n",
       "    }\n",
       "\n",
       "    .dataframe thead th {\n",
       "        text-align: right;\n",
       "    }\n",
       "</style>\n",
       "<table border=\"1\" class=\"dataframe\">\n",
       "  <thead>\n",
       "    <tr style=\"text-align: right;\">\n",
       "      <th></th>\n",
       "      <th>id</th>\n",
       "      <th>name</th>\n",
       "      <th>host_id</th>\n",
       "      <th>host_name</th>\n",
       "      <th>neighbourhood_group</th>\n",
       "      <th>neighbourhood</th>\n",
       "      <th>latitude</th>\n",
       "      <th>longitude</th>\n",
       "      <th>room_type</th>\n",
       "      <th>price</th>\n",
       "      <th>minimum_nights</th>\n",
       "      <th>number_of_reviews</th>\n",
       "      <th>last_review</th>\n",
       "      <th>reviews_per_month</th>\n",
       "      <th>calculated_host_listings_count</th>\n",
       "      <th>availability_365</th>\n",
       "    </tr>\n",
       "  </thead>\n",
       "  <tbody>\n",
       "    <tr>\n",
       "      <th>0</th>\n",
       "      <td>2539</td>\n",
       "      <td>Clean &amp; quiet apt home by the park</td>\n",
       "      <td>2787</td>\n",
       "      <td>John</td>\n",
       "      <td>Brooklyn</td>\n",
       "      <td>Kensington</td>\n",
       "      <td>40.64749</td>\n",
       "      <td>-73.97237</td>\n",
       "      <td>Private room</td>\n",
       "      <td>149</td>\n",
       "      <td>1</td>\n",
       "      <td>9</td>\n",
       "      <td>2018-10-19</td>\n",
       "      <td>0.21</td>\n",
       "      <td>6</td>\n",
       "      <td>365</td>\n",
       "    </tr>\n",
       "    <tr>\n",
       "      <th>1</th>\n",
       "      <td>2595</td>\n",
       "      <td>Skylit Midtown Castle</td>\n",
       "      <td>2845</td>\n",
       "      <td>Jennifer</td>\n",
       "      <td>Manhattan</td>\n",
       "      <td>Midtown</td>\n",
       "      <td>40.75362</td>\n",
       "      <td>-73.98377</td>\n",
       "      <td>Entire home/apt</td>\n",
       "      <td>225</td>\n",
       "      <td>1</td>\n",
       "      <td>45</td>\n",
       "      <td>2019-05-21</td>\n",
       "      <td>0.38</td>\n",
       "      <td>2</td>\n",
       "      <td>355</td>\n",
       "    </tr>\n",
       "    <tr>\n",
       "      <th>2</th>\n",
       "      <td>3647</td>\n",
       "      <td>THE VILLAGE OF HARLEM....NEW YORK !</td>\n",
       "      <td>4632</td>\n",
       "      <td>Elisabeth</td>\n",
       "      <td>Manhattan</td>\n",
       "      <td>Harlem</td>\n",
       "      <td>40.80902</td>\n",
       "      <td>-73.94190</td>\n",
       "      <td>Private room</td>\n",
       "      <td>150</td>\n",
       "      <td>3</td>\n",
       "      <td>0</td>\n",
       "      <td>NaN</td>\n",
       "      <td>NaN</td>\n",
       "      <td>1</td>\n",
       "      <td>365</td>\n",
       "    </tr>\n",
       "    <tr>\n",
       "      <th>3</th>\n",
       "      <td>3831</td>\n",
       "      <td>Cozy Entire Floor of Brownstone</td>\n",
       "      <td>4869</td>\n",
       "      <td>LisaRoxanne</td>\n",
       "      <td>Brooklyn</td>\n",
       "      <td>Clinton Hill</td>\n",
       "      <td>40.68514</td>\n",
       "      <td>-73.95976</td>\n",
       "      <td>Entire home/apt</td>\n",
       "      <td>89</td>\n",
       "      <td>1</td>\n",
       "      <td>270</td>\n",
       "      <td>2019-07-05</td>\n",
       "      <td>4.64</td>\n",
       "      <td>1</td>\n",
       "      <td>194</td>\n",
       "    </tr>\n",
       "    <tr>\n",
       "      <th>4</th>\n",
       "      <td>5022</td>\n",
       "      <td>Entire Apt: Spacious Studio/Loft by central park</td>\n",
       "      <td>7192</td>\n",
       "      <td>Laura</td>\n",
       "      <td>Manhattan</td>\n",
       "      <td>East Harlem</td>\n",
       "      <td>40.79851</td>\n",
       "      <td>-73.94399</td>\n",
       "      <td>Entire home/apt</td>\n",
       "      <td>80</td>\n",
       "      <td>10</td>\n",
       "      <td>9</td>\n",
       "      <td>2018-11-19</td>\n",
       "      <td>0.10</td>\n",
       "      <td>1</td>\n",
       "      <td>0</td>\n",
       "    </tr>\n",
       "  </tbody>\n",
       "</table>\n",
       "</div>"
      ],
      "text/plain": [
       "     id                                              name  host_id  \\\n",
       "0  2539                Clean & quiet apt home by the park     2787   \n",
       "1  2595                             Skylit Midtown Castle     2845   \n",
       "2  3647               THE VILLAGE OF HARLEM....NEW YORK !     4632   \n",
       "3  3831                   Cozy Entire Floor of Brownstone     4869   \n",
       "4  5022  Entire Apt: Spacious Studio/Loft by central park     7192   \n",
       "\n",
       "     host_name neighbourhood_group neighbourhood  latitude  longitude  \\\n",
       "0         John            Brooklyn    Kensington  40.64749  -73.97237   \n",
       "1     Jennifer           Manhattan       Midtown  40.75362  -73.98377   \n",
       "2    Elisabeth           Manhattan        Harlem  40.80902  -73.94190   \n",
       "3  LisaRoxanne            Brooklyn  Clinton Hill  40.68514  -73.95976   \n",
       "4        Laura           Manhattan   East Harlem  40.79851  -73.94399   \n",
       "\n",
       "         room_type  price  minimum_nights  number_of_reviews last_review  \\\n",
       "0     Private room    149               1                  9  2018-10-19   \n",
       "1  Entire home/apt    225               1                 45  2019-05-21   \n",
       "2     Private room    150               3                  0         NaN   \n",
       "3  Entire home/apt     89               1                270  2019-07-05   \n",
       "4  Entire home/apt     80              10                  9  2018-11-19   \n",
       "\n",
       "   reviews_per_month  calculated_host_listings_count  availability_365  \n",
       "0               0.21                               6               365  \n",
       "1               0.38                               2               355  \n",
       "2                NaN                               1               365  \n",
       "3               4.64                               1               194  \n",
       "4               0.10                               1                 0  "
      ]
     },
     "metadata": {},
     "execution_count": 46
    }
   ],
   "metadata": {}
  },
  {
   "cell_type": "code",
   "execution_count": 47,
   "source": [
    "df.dtypes"
   ],
   "outputs": [
    {
     "output_type": "execute_result",
     "data": {
      "text/plain": [
       "id                                  int64\n",
       "name                               object\n",
       "host_id                             int64\n",
       "host_name                          object\n",
       "neighbourhood_group                object\n",
       "neighbourhood                      object\n",
       "latitude                          float64\n",
       "longitude                         float64\n",
       "room_type                          object\n",
       "price                               int64\n",
       "minimum_nights                      int64\n",
       "number_of_reviews                   int64\n",
       "last_review                        object\n",
       "reviews_per_month                 float64\n",
       "calculated_host_listings_count      int64\n",
       "availability_365                    int64\n",
       "dtype: object"
      ]
     },
     "metadata": {},
     "execution_count": 47
    }
   ],
   "metadata": {}
  },
  {
   "cell_type": "code",
   "execution_count": 48,
   "source": [
    "categorical = [\r\n",
    "'neighbourhood_group',\r\n",
    "'room_type',\r\n",
    "]\r\n",
    "\r\n",
    "numerical=['latitude',\r\n",
    "'longitude',\r\n",
    "'price',\r\n",
    "'minimum_nights',\r\n",
    "'number_of_reviews',\r\n",
    "'reviews_per_month',\r\n",
    "'calculated_host_listings_count',\r\n",
    "'availability_365']\r\n",
    "\r\n",
    " "
   ],
   "outputs": [],
   "metadata": {}
  },
  {
   "cell_type": "markdown",
   "source": [
    "Filling the missing values with 0."
   ],
   "metadata": {}
  },
  {
   "cell_type": "markdown",
   "source": [
    "\r\n",
    "### Make price binary\r\n",
    "\r\n",
    "* We need to turn the price variable from numeric into binary.\r\n",
    "* Let's create a variable `above_average` which is `1` if the price is above (or equal to) `152`.\r\n"
   ],
   "metadata": {}
  },
  {
   "cell_type": "code",
   "execution_count": 49,
   "source": [
    "def prepare_df(df):\r\n",
    "    df_copy = df[categorical+numerical]\r\n",
    "    df_copy = df_copy.fillna(0)\r\n",
    "    df_copy.price = (df_copy.price >= 152).astype(int)\r\n",
    "    return df_copy"
   ],
   "outputs": [],
   "metadata": {}
  },
  {
   "cell_type": "code",
   "execution_count": 50,
   "source": [
    "df.isnull().sum()"
   ],
   "outputs": [
    {
     "output_type": "execute_result",
     "data": {
      "text/plain": [
       "id                                    0\n",
       "name                                 16\n",
       "host_id                               0\n",
       "host_name                            21\n",
       "neighbourhood_group                   0\n",
       "neighbourhood                         0\n",
       "latitude                              0\n",
       "longitude                             0\n",
       "room_type                             0\n",
       "price                                 0\n",
       "minimum_nights                        0\n",
       "number_of_reviews                     0\n",
       "last_review                       10052\n",
       "reviews_per_month                 10052\n",
       "calculated_host_listings_count        0\n",
       "availability_365                      0\n",
       "dtype: int64"
      ]
     },
     "metadata": {},
     "execution_count": 50
    }
   ],
   "metadata": {}
  },
  {
   "cell_type": "code",
   "execution_count": 51,
   "source": [
    "df_copy = prepare_df(df)\r\n"
   ],
   "outputs": [],
   "metadata": {}
  },
  {
   "cell_type": "code",
   "execution_count": 52,
   "source": [
    "df_copy.isnull().sum()"
   ],
   "outputs": [
    {
     "output_type": "execute_result",
     "data": {
      "text/plain": [
       "neighbourhood_group               0\n",
       "room_type                         0\n",
       "latitude                          0\n",
       "longitude                         0\n",
       "price                             0\n",
       "minimum_nights                    0\n",
       "number_of_reviews                 0\n",
       "reviews_per_month                 0\n",
       "calculated_host_listings_count    0\n",
       "availability_365                  0\n",
       "dtype: int64"
      ]
     },
     "metadata": {},
     "execution_count": 52
    }
   ],
   "metadata": {}
  },
  {
   "cell_type": "markdown",
   "source": [
    "<b>Question 1</b> <br>\r\n",
    "What is the most frequent observation (mode) for the column 'neighbourhood_group'?\r\n",
    "\r\n"
   ],
   "metadata": {}
  },
  {
   "cell_type": "code",
   "execution_count": 53,
   "source": [
    "display(df_copy.mode()['neighbourhood_group'][0]);\r\n"
   ],
   "outputs": [
    {
     "output_type": "display_data",
     "data": {
      "text/plain": [
       "'Manhattan'"
      ]
     },
     "metadata": {}
    }
   ],
   "metadata": {}
  },
  {
   "cell_type": "markdown",
   "source": [
    "\r\n",
    "### Split the data\r\n",
    "\r\n",
    "* Split your data in train/val/test sets, with 60%/20%/20% distribution.\r\n",
    "* Use Scikit-Learn for that (the `train_test_split` function) and set the seed to 42.\r\n",
    "* Make sure that the target value ('price') is not in your dataframe."
   ],
   "metadata": {}
  },
  {
   "cell_type": "code",
   "execution_count": 54,
   "source": [
    "len(df_copy)"
   ],
   "outputs": [
    {
     "output_type": "execute_result",
     "data": {
      "text/plain": [
       "48895"
      ]
     },
     "metadata": {},
     "execution_count": 54
    }
   ],
   "metadata": {}
  },
  {
   "cell_type": "code",
   "execution_count": 55,
   "source": [
    "from sklearn.model_selection import train_test_split\r\n",
    "\r\n",
    "df_full_train , df_test =train_test_split(df_copy,test_size=0.2,random_state=42) # Using 20% test Size seed 42\r\n",
    "\r\n",
    "# df_full_train = 80% of df_copy\r\n",
    "# df_test = 20% of df_copy"
   ],
   "outputs": [],
   "metadata": {}
  },
  {
   "cell_type": "code",
   "execution_count": 56,
   "source": [
    "len(df_full_train),len(df_test)"
   ],
   "outputs": [
    {
     "output_type": "execute_result",
     "data": {
      "text/plain": [
       "(39116, 9779)"
      ]
     },
     "metadata": {},
     "execution_count": 56
    }
   ],
   "metadata": {}
  },
  {
   "cell_type": "code",
   "execution_count": 57,
   "source": [
    "df_train , df_val = train_test_split(df_full_train,test_size=0.25,random_state=42) # From full train split "
   ],
   "outputs": [],
   "metadata": {}
  },
  {
   "cell_type": "code",
   "execution_count": 58,
   "source": [
    "len(df_train) , len(df_val) , len (df_test) \r\n",
    "\r\n",
    "# validation data set of full train \r\n",
    "# df_full_train = 80% of df_copy\r\n",
    "# df_test = 20% of df_copy\r\n",
    "# df_val = 20% of df_copy and 25% of df_full_train\r\n",
    "\r\n"
   ],
   "outputs": [
    {
     "output_type": "execute_result",
     "data": {
      "text/plain": [
       "(29337, 9779, 9779)"
      ]
     },
     "metadata": {},
     "execution_count": 58
    }
   ],
   "metadata": {}
  },
  {
   "cell_type": "code",
   "execution_count": 59,
   "source": [
    "df_train= df_train.reset_index(drop=True) # not necessary for models to work\r\n",
    "df_val = df_val.reset_index(drop=True) # not necessary for models to work\r\n",
    "df_test = df_test.reset_index(drop=True) # not necessary for models to work\r\n",
    "df_full_train = df_full_train.reset_index(drop=True)"
   ],
   "outputs": [],
   "metadata": {}
  },
  {
   "cell_type": "code",
   "execution_count": 60,
   "source": [
    "y_train = df_train.price.values\r\n",
    "y_val = df_val.price.values\r\n",
    "y_test = df_test.price.values"
   ],
   "outputs": [],
   "metadata": {}
  },
  {
   "cell_type": "code",
   "execution_count": 61,
   "source": [
    "del df_train['price']\r\n",
    "del df_val['price']\r\n",
    "del df_test['price']"
   ],
   "outputs": [],
   "metadata": {}
  },
  {
   "cell_type": "code",
   "execution_count": 62,
   "source": [
    "y_train"
   ],
   "outputs": [
    {
     "output_type": "execute_result",
     "data": {
      "text/plain": [
       "array([0, 0, 0, ..., 1, 0, 0])"
      ]
     },
     "metadata": {},
     "execution_count": 62
    }
   ],
   "metadata": {}
  },
  {
   "cell_type": "markdown",
   "source": [
    "### Question 2\r\n",
    "\r\n",
    "* Create the [correlation matrix](https://www.google.com/search?q=correlation+matrix) for the numerical features of your train dataset.\r\n",
    "   * In a correlation matrix, you compute the correlation coefficient between every pair of features in the dataset.\r\n",
    "* What are the two features that have the biggest correlation in this dataset?"
   ],
   "metadata": {}
  },
  {
   "cell_type": "code",
   "execution_count": 63,
   "source": [
    "import seaborn as sns"
   ],
   "outputs": [],
   "metadata": {}
  },
  {
   "cell_type": "code",
   "execution_count": 64,
   "source": [
    "df_full_train.price"
   ],
   "outputs": [
    {
     "output_type": "execute_result",
     "data": {
      "text/plain": [
       "0        1\n",
       "1        0\n",
       "2        0\n",
       "3        0\n",
       "4        0\n",
       "        ..\n",
       "39111    0\n",
       "39112    0\n",
       "39113    0\n",
       "39114    0\n",
       "39115    0\n",
       "Name: price, Length: 39116, dtype: int32"
      ]
     },
     "metadata": {},
     "execution_count": 64
    }
   ],
   "metadata": {}
  },
  {
   "cell_type": "code",
   "execution_count": 65,
   "source": [
    "df_full_train.price.value_counts()"
   ],
   "outputs": [
    {
     "output_type": "execute_result",
     "data": {
      "text/plain": [
       "0    27146\n",
       "1    11970\n",
       "Name: price, dtype: int64"
      ]
     },
     "metadata": {},
     "execution_count": 65
    }
   ],
   "metadata": {}
  },
  {
   "cell_type": "code",
   "execution_count": 66,
   "source": [
    "df_train.corr().unstack().sort_values(ascending=False).drop_duplicates()"
   ],
   "outputs": [
    {
     "output_type": "execute_result",
     "data": {
      "text/plain": [
       "latitude                        latitude                          1.000000\n",
       "number_of_reviews               reviews_per_month                 0.590374\n",
       "availability_365                calculated_host_listings_count    0.225913\n",
       "                                number_of_reviews                 0.174477\n",
       "                                reviews_per_month                 0.165376\n",
       "                                minimum_nights                    0.138901\n",
       "longitude                       reviews_per_month                 0.134642\n",
       "calculated_host_listings_count  minimum_nights                    0.118647\n",
       "availability_365                longitude                         0.083666\n",
       "longitude                       latitude                          0.080301\n",
       "                                number_of_reviews                 0.055084\n",
       "latitude                        minimum_nights                    0.027441\n",
       "calculated_host_listings_count  latitude                          0.019375\n",
       "latitude                        availability_365                 -0.005891\n",
       "number_of_reviews               latitude                         -0.006246\n",
       "latitude                        reviews_per_month                -0.007159\n",
       "calculated_host_listings_count  reviews_per_month                -0.048767\n",
       "minimum_nights                  longitude                        -0.060660\n",
       "calculated_host_listings_count  number_of_reviews                -0.073167\n",
       "number_of_reviews               minimum_nights                   -0.076020\n",
       "longitude                       calculated_host_listings_count   -0.117041\n",
       "minimum_nights                  reviews_per_month                -0.120703\n",
       "dtype: float64"
      ]
     },
     "metadata": {},
     "execution_count": 66
    }
   ],
   "metadata": {}
  },
  {
   "cell_type": "code",
   "execution_count": 67,
   "source": [
    "sns.heatmap(df_train.corr())\r\n",
    "# for better visualization of correlation values"
   ],
   "outputs": [
    {
     "output_type": "execute_result",
     "data": {
      "text/plain": [
       "<AxesSubplot:>"
      ]
     },
     "metadata": {},
     "execution_count": 67
    },
    {
     "output_type": "display_data",
     "data": {
      "image/png": "[encoded data removed]",
      "text/plain": [
       "<Figure size 432x288 with 2 Axes>"
      ]
     },
     "metadata": {
      "needs_background": "light"
     }
    }
   ],
   "metadata": {}
  },
  {
   "cell_type": "markdown",
   "source": [
    "### Question 3\r\n",
    "\r\n",
    "* Calculate the mutual information score with the (binarized) price for the two categorical variables that we have. Use the training set only.\r\n",
    "* Which of these two variables has bigger score?\r\n",
    "* Round it to 2 decimal digits using `round(score, 2)`\r\n"
   ],
   "metadata": {}
  },
  {
   "cell_type": "code",
   "execution_count": 68,
   "source": [
    "from sklearn.metrics import mutual_info_score\r\n",
    "\r\n"
   ],
   "outputs": [],
   "metadata": {}
  },
  {
   "cell_type": "code",
   "execution_count": 69,
   "source": [
    "\r\n",
    "display(round(mutual_info_score(df_full_train.price,df_full_train.neighbourhood_group),2)) # mutual information score\r\n",
    "\r\n",
    "display(round(mutual_info_score(df_full_train.price,df_full_train.room_type),2)) # mutual information score\r\n"
   ],
   "outputs": [
    {
     "output_type": "display_data",
     "data": {
      "text/plain": [
       "0.05"
      ]
     },
     "metadata": {}
    },
    {
     "output_type": "display_data",
     "data": {
      "text/plain": [
       "0.14"
      ]
     },
     "metadata": {}
    }
   ],
   "metadata": {}
  },
  {
   "cell_type": "code",
   "execution_count": 70,
   "source": [
    "df_full_train.dtypes"
   ],
   "outputs": [
    {
     "output_type": "execute_result",
     "data": {
      "text/plain": [
       "neighbourhood_group                object\n",
       "room_type                          object\n",
       "latitude                          float64\n",
       "longitude                         float64\n",
       "price                               int32\n",
       "minimum_nights                      int64\n",
       "number_of_reviews                   int64\n",
       "reviews_per_month                 float64\n",
       "calculated_host_listings_count      int64\n",
       "availability_365                    int64\n",
       "dtype: object"
      ]
     },
     "metadata": {},
     "execution_count": 70
    }
   ],
   "metadata": {}
  },
  {
   "cell_type": "markdown",
   "source": [
    "### Question 4\r\n",
    "\r\n",
    "* Now let's train a logistic regression\r\n",
    "* Remember that we have two categorical variables in the data. Include them using one-hot encoding.\r\n",
    "* Fit the model on the training dataset.\r\n",
    "   * To make sure the results are reproducible across different versions of Scikit-Learn, fit the model with these parameters:\r\n",
    "   * `model = LogisticRegression(solver='lbfgs', C=1.0, random_state=42)`\r\n",
    "* Calculate the accuracy on the validation dataset and rount it to 2 decimal digits.\r\n"
   ],
   "metadata": {}
  },
  {
   "cell_type": "code",
   "execution_count": 71,
   "source": [
    "df_train.dtypes"
   ],
   "outputs": [
    {
     "output_type": "execute_result",
     "data": {
      "text/plain": [
       "neighbourhood_group                object\n",
       "room_type                          object\n",
       "latitude                          float64\n",
       "longitude                         float64\n",
       "minimum_nights                      int64\n",
       "number_of_reviews                   int64\n",
       "reviews_per_month                 float64\n",
       "calculated_host_listings_count      int64\n",
       "availability_365                    int64\n",
       "dtype: object"
      ]
     },
     "metadata": {},
     "execution_count": 71
    }
   ],
   "metadata": {}
  },
  {
   "cell_type": "code",
   "execution_count": 72,
   "source": [
    "from sklearn.feature_extraction import DictVectorizer\r\n",
    "\r\n",
    "\r\n",
    "base_features = (categorical + numerical).copy()\r\n",
    "\r\n",
    "base_features.remove('price') # Removing the price \r\n"
   ],
   "outputs": [],
   "metadata": {}
  },
  {
   "cell_type": "code",
   "execution_count": 73,
   "source": [
    "\r\n",
    "train_dict= df_train[ base_features ].to_dict(orient='records') # creating a dictionary from the data\r\n",
    "\r\n",
    "train_dict[0]\r\n"
   ],
   "outputs": [
    {
     "output_type": "execute_result",
     "data": {
      "text/plain": [
       "{'neighbourhood_group': 'Brooklyn',\n",
       " 'room_type': 'Entire home/apt',\n",
       " 'latitude': 40.7276,\n",
       " 'longitude': -73.94495,\n",
       " 'minimum_nights': 3,\n",
       " 'number_of_reviews': 29,\n",
       " 'reviews_per_month': 0.7,\n",
       " 'calculated_host_listings_count': 13,\n",
       " 'availability_365': 50}"
      ]
     },
     "metadata": {},
     "execution_count": 73
    }
   ],
   "metadata": {}
  },
  {
   "cell_type": "code",
   "execution_count": 74,
   "source": [
    "dv = DictVectorizer(sparse=False) # turn the dictionary into a vector\r\n",
    "dv.fit(train_dict)\r\n",
    "X_train = dv.transform(train_dict)"
   ],
   "outputs": [],
   "metadata": {}
  },
  {
   "cell_type": "code",
   "execution_count": 75,
   "source": [
    "X_train.shape"
   ],
   "outputs": [
    {
     "output_type": "execute_result",
     "data": {
      "text/plain": [
       "(29337, 15)"
      ]
     },
     "metadata": {},
     "execution_count": 75
    }
   ],
   "metadata": {}
  },
  {
   "cell_type": "code",
   "execution_count": 76,
   "source": [
    "dv.get_feature_names()"
   ],
   "outputs": [
    {
     "output_type": "execute_result",
     "data": {
      "text/plain": [
       "['availability_365',\n",
       " 'calculated_host_listings_count',\n",
       " 'latitude',\n",
       " 'longitude',\n",
       " 'minimum_nights',\n",
       " 'neighbourhood_group=Bronx',\n",
       " 'neighbourhood_group=Brooklyn',\n",
       " 'neighbourhood_group=Manhattan',\n",
       " 'neighbourhood_group=Queens',\n",
       " 'neighbourhood_group=Staten Island',\n",
       " 'number_of_reviews',\n",
       " 'reviews_per_month',\n",
       " 'room_type=Entire home/apt',\n",
       " 'room_type=Private room',\n",
       " 'room_type=Shared room']"
      ]
     },
     "metadata": {},
     "execution_count": 76
    }
   ],
   "metadata": {}
  },
  {
   "cell_type": "markdown",
   "source": [
    "<h1> Logistic Regression </h1>"
   ],
   "metadata": {}
  },
  {
   "cell_type": "markdown",
   "source": [
    "$$\\sigma = \\frac{1}{1+exp(-z)}$$"
   ],
   "metadata": {}
  },
  {
   "cell_type": "markdown",
   "source": [
    "<h2> Training logistic regression with Scikit-Learn </h2>"
   ],
   "metadata": {}
  },
  {
   "cell_type": "code",
   "execution_count": 77,
   "source": [
    "from sklearn.linear_model import LogisticRegression\r\n",
    "\r\n",
    "model = LogisticRegression(solver='lbfgs', C=1.0, random_state=42,max_iter=10000)\r\n",
    "model.fit(X_train, y_train)\r\n"
   ],
   "outputs": [
    {
     "output_type": "execute_result",
     "data": {
      "text/plain": [
       "LogisticRegression(max_iter=10000, random_state=42)"
      ]
     },
     "metadata": {},
     "execution_count": 77
    }
   ],
   "metadata": {}
  },
  {
   "cell_type": "code",
   "execution_count": 78,
   "source": [
    "val_dict = df_val[base_features].to_dict(orient='records')\r\n",
    "X_val = dv.transform(val_dict)"
   ],
   "outputs": [],
   "metadata": {}
  },
  {
   "cell_type": "code",
   "execution_count": 79,
   "source": [
    "model.coef_[0].round(2)"
   ],
   "outputs": [
    {
     "output_type": "execute_result",
     "data": {
      "text/plain": [
       "array([ 0.  ,  0.  , -5.94, -3.23, -0.01, -0.16,  0.16,  1.62,  0.02,\n",
       "       -1.69, -0.  , -0.04,  1.94, -0.85, -1.15])"
      ]
     },
     "metadata": {},
     "execution_count": 79
    }
   ],
   "metadata": {}
  },
  {
   "cell_type": "code",
   "execution_count": 80,
   "source": [
    "model.predict_proba(X_val)"
   ],
   "outputs": [
    {
     "output_type": "execute_result",
     "data": {
      "text/plain": [
       "array([[0.97141292, 0.02858708],\n",
       "       [0.40318237, 0.59681763],\n",
       "       [0.57248768, 0.42751232],\n",
       "       ...,\n",
       "       [0.88595557, 0.11404443],\n",
       "       [0.96557331, 0.03442669],\n",
       "       [0.47359783, 0.52640217]])"
      ]
     },
     "metadata": {},
     "execution_count": 80
    }
   ],
   "metadata": {}
  },
  {
   "cell_type": "code",
   "execution_count": 81,
   "source": [
    "y_pred = model.predict_proba(X_val)[:, 1]"
   ],
   "outputs": [],
   "metadata": {}
  },
  {
   "cell_type": "code",
   "execution_count": 82,
   "source": [
    "price_predict = (y_pred > 0.5).astype(int)"
   ],
   "outputs": [],
   "metadata": {}
  },
  {
   "cell_type": "code",
   "execution_count": 83,
   "source": [
    "\r\n",
    "( y_val == price_predict).mean()\r\n",
    "\r\n"
   ],
   "outputs": [
    {
     "output_type": "execute_result",
     "data": {
      "text/plain": [
       "0.7906738930360978"
      ]
     },
     "metadata": {},
     "execution_count": 83
    }
   ],
   "metadata": {}
  },
  {
   "cell_type": "markdown",
   "source": [
    "\r\n",
    "### Question 5\r\n",
    "\r\n",
    "* We have 9 features: 7 numerical features and 2 categorical.\r\n",
    "* Let's find the least useful one using the *feature elimination* technique.\r\n",
    "* Train a model with all these features (using the same parameters as in Q4).\r\n",
    "* Now exclude each feature from this set and train a model without it. Record the accuracy for each model.\r\n",
    "* For each feature, calculate the difference between the original accuracy and the accuracy without the feature. \r\n",
    "* Which of following feature has the smallest difference? \r\n",
    "   * `neighbourhood_group`\r\n",
    "   * `room_type` \r\n",
    "   * `number_of_reviews`\r\n",
    "   * `reviews_per_month`\r\n"
   ],
   "metadata": {}
  },
  {
   "cell_type": "code",
   "execution_count": 84,
   "source": [
    "from sklearn.feature_extraction import DictVectorizer\r\n",
    "from sklearn.linear_model import LogisticRegression\r\n",
    "\r\n",
    "base = [\r\n",
    "'neighbourhood_group',\r\n",
    "'room_type',\r\n",
    "'latitude',\r\n",
    "'longitude',\r\n",
    "'minimum_nights',\r\n",
    "'number_of_reviews',\r\n",
    "'reviews_per_month',\r\n",
    "'calculated_host_listings_count',\r\n",
    "'availability_365'\r\n",
    "]\r\n",
    "\r\n",
    "base1=base.copy()\r\n",
    "base1.remove('neighbourhood_group')\r\n",
    "\r\n",
    "\r\n",
    "base2=base.copy()\r\n",
    "base2.remove('room_type')\r\n",
    "\r\n",
    "base3=base.copy()\r\n",
    "base3.remove('latitude')\r\n",
    "\r\n",
    "\r\n",
    "base4=base.copy()\r\n",
    "base4.remove('reviews_per_month')\r\n",
    "\r\n",
    "\r\n",
    "\r\n",
    "def Feature_model(new_base):\r\n",
    "    train_dicts= df_train[new_base].to_dict(orient='records') # creating a dictionary from the data\r\n",
    "    \r\n",
    "    dv = DictVectorizer(sparse=False) # turn the dictionary into a vector\r\n",
    "    X_train = dv.fit_transform(train_dicts) # building a one-hot enconding matrix out of the data\r\n",
    "    dv.fit(train_dicts) # SAME as above\r\n",
    "    X_train = dv.transform(train_dicts)\r\n",
    "    val_dict = df_val[new_base].to_dict(orient='records')\r\n",
    "    X_val = dv.transform(val_dict)\r\n",
    "\r\n",
    "    model = LogisticRegression(solver='lbfgs', C=1.0, random_state=42, max_iter=10000)\r\n",
    "    model.fit(X_train, y_train)\r\n",
    "    model.predict(X_train\r\n",
    "    ) # HARD predictions \r\n",
    "    y_pred =model.predict_proba(X_val\r\n",
    "    )[:,1]\r\n",
    "    #LOGISTIC REGRESSION\r\n",
    "    price_predict = (y_pred > 0.5).astype(int)\r\n",
    "    original_accuracy= (y_val == price_predict).mean()\r\n",
    "\r\n",
    "    display(original_accuracy)\r\n",
    "\r\n",
    "    return model\r\n",
    "\r\n",
    "\r\n",
    "display(\"Removed neighbourhood_group:\")\r\n",
    "Feature_model(base1)\r\n",
    "\r\n",
    "display(\"Removed room_type:\")\r\n",
    "Feature_model(base2)\r\n",
    "\r\n",
    "display(\"Removed latitude:\")\r\n",
    "Feature_model(base3)\r\n",
    "\r\n",
    "display(\"Removed reviews_per_month\")\r\n",
    "Feature_model(base4)\r\n",
    "\r\n",
    "\r\n"
   ],
   "outputs": [
    {
     "output_type": "display_data",
     "data": {
      "text/plain": [
       "'Removed neighbourhood_group:'"
      ]
     },
     "metadata": {}
    },
    {
     "output_type": "display_data",
     "data": {
      "text/plain": [
       "0.7509970344616014"
      ]
     },
     "metadata": {}
    },
    {
     "output_type": "display_data",
     "data": {
      "text/plain": [
       "'Removed room_type:'"
      ]
     },
     "metadata": {}
    },
    {
     "output_type": "display_data",
     "data": {
      "text/plain": [
       "0.7288066264444217"
      ]
     },
     "metadata": {}
    },
    {
     "output_type": "display_data",
     "data": {
      "text/plain": [
       "'Removed latitude:'"
      ]
     },
     "metadata": {}
    },
    {
     "output_type": "display_data",
     "data": {
      "text/plain": [
       "0.7867880151344718"
      ]
     },
     "metadata": {}
    },
    {
     "output_type": "display_data",
     "data": {
      "text/plain": [
       "'Removed reviews_per_month'"
      ]
     },
     "metadata": {}
    },
    {
     "output_type": "display_data",
     "data": {
      "text/plain": [
       "0.7909806728704366"
      ]
     },
     "metadata": {}
    },
    {
     "output_type": "execute_result",
     "data": {
      "text/plain": [
       "LogisticRegression(max_iter=10000, random_state=42)"
      ]
     },
     "metadata": {},
     "execution_count": 84
    }
   ],
   "metadata": {}
  },
  {
   "cell_type": "markdown",
   "source": [
    "<i> Answer : reviews_per_month </i>\r\n"
   ],
   "metadata": {}
  },
  {
   "cell_type": "markdown",
   "source": [
    "### Question 6\r\n",
    "\r\n",
    "* For this question, we'll see how to use a linear regression model from Scikit-Learn\r\n",
    "* We'll need to use the original column `'price'`. Apply the logarithmic transformation to this column.\r\n",
    "* Fit the Ridge regression model on the training data.\r\n",
    "* This model has a parameter `alpha`. Let's try the following values: `[0, 0.01, 0.1, 1, 10]`\r\n",
    "* Which of these alphas leads to the best RMSE on the validation set? Round your RMSE scores to 3 decimal digits.\r\n",
    "\r\n",
    "If there are multiple options, select the smallest `alpha`."
   ],
   "metadata": {}
  },
  {
   "cell_type": "code",
   "execution_count": 85,
   "source": [
    "def prepare_df_lr(df):\r\n",
    "    df_copy = df[categorical+numerical]\r\n",
    "    df_copy = df_copy.fillna(0)\r\n",
    "    return df_copy"
   ],
   "outputs": [],
   "metadata": {}
  },
  {
   "cell_type": "code",
   "execution_count": 86,
   "source": [
    "df_lr = prepare_df_lr(df)\r\n"
   ],
   "outputs": [],
   "metadata": {}
  },
  {
   "cell_type": "code",
   "execution_count": 87,
   "source": [
    "df_lr.isnull().sum()"
   ],
   "outputs": [
    {
     "output_type": "execute_result",
     "data": {
      "text/plain": [
       "neighbourhood_group               0\n",
       "room_type                         0\n",
       "latitude                          0\n",
       "longitude                         0\n",
       "price                             0\n",
       "minimum_nights                    0\n",
       "number_of_reviews                 0\n",
       "reviews_per_month                 0\n",
       "calculated_host_listings_count    0\n",
       "availability_365                  0\n",
       "dtype: int64"
      ]
     },
     "metadata": {},
     "execution_count": 87
    }
   ],
   "metadata": {}
  },
  {
   "cell_type": "code",
   "execution_count": 88,
   "source": [
    "sns.histplot(df_lr.price[df_lr.price < 100000],bins=50)\r\n"
   ],
   "outputs": [
    {
     "output_type": "execute_result",
     "data": {
      "text/plain": [
       "<AxesSubplot:xlabel='price', ylabel='Count'>"
      ]
     },
     "metadata": {},
     "execution_count": 88
    },
    {
     "output_type": "display_data",
     "data": {
      "image/png": "[encoded data removed]",
      "text/plain": [
       "<Figure size 432x288 with 1 Axes>"
      ]
     },
     "metadata": {
      "needs_background": "light"
     }
    }
   ],
   "metadata": {}
  },
  {
   "cell_type": "markdown",
   "source": [
    "Giving the shape of the data , is important to take the $log$ distribution "
   ],
   "metadata": {}
  },
  {
   "cell_type": "code",
   "execution_count": 89,
   "source": [
    "\r\n",
    "price_logs = np.log1p(df_lr.price)\r\n",
    "\r\n",
    "display(price_logs)\r\n"
   ],
   "outputs": [
    {
     "output_type": "display_data",
     "data": {
      "text/plain": [
       "0        5.010635\n",
       "1        5.420535\n",
       "2        5.017280\n",
       "3        4.499810\n",
       "4        4.394449\n",
       "           ...   \n",
       "48890    4.262680\n",
       "48891    3.713572\n",
       "48892    4.753590\n",
       "48893    4.025352\n",
       "48894    4.510860\n",
       "Name: price, Length: 48895, dtype: float64"
      ]
     },
     "metadata": {}
    }
   ],
   "metadata": {}
  },
  {
   "cell_type": "code",
   "execution_count": 90,
   "source": [
    "\r\n",
    "sns.histplot(price_logs,bins=50)\r\n"
   ],
   "outputs": [
    {
     "output_type": "execute_result",
     "data": {
      "text/plain": [
       "<AxesSubplot:xlabel='price', ylabel='Count'>"
      ]
     },
     "metadata": {},
     "execution_count": 90
    },
    {
     "output_type": "display_data",
     "data": {
      "image/png": "[encoded data removed]",
      "text/plain": [
       "<Figure size 432x288 with 1 Axes>"
      ]
     },
     "metadata": {
      "needs_background": "light"
     }
    }
   ],
   "metadata": {}
  },
  {
   "cell_type": "code",
   "execution_count": 91,
   "source": [
    "df_lr.price"
   ],
   "outputs": [
    {
     "output_type": "execute_result",
     "data": {
      "text/plain": [
       "0        149\n",
       "1        225\n",
       "2        150\n",
       "3         89\n",
       "4         80\n",
       "        ... \n",
       "48890     70\n",
       "48891     40\n",
       "48892    115\n",
       "48893     55\n",
       "48894     90\n",
       "Name: price, Length: 48895, dtype: int64"
      ]
     },
     "metadata": {},
     "execution_count": 91
    }
   ],
   "metadata": {}
  },
  {
   "cell_type": "code",
   "execution_count": 92,
   "source": [
    "from sklearn.model_selection import train_test_split\r\n",
    "from sklearn.feature_extraction import DictVectorizer\r\n",
    "\r\n",
    "df_full_train , df_test =train_test_split(df_lr,test_size=0.2,random_state=42) # Using 20% test Size seed 42\r\n",
    "df_train , df_val = train_test_split(df_full_train,test_size=0.25,random_state=42) # From full \r\n",
    "df_train= df_train.reset_index(drop=True) # not necessary for models to work\r\n",
    "df_val = df_val.reset_index(drop=True) # not necessary for models to work\r\n",
    "df_test = df_test.reset_index(drop=True) # not necessary for models to work\r\n",
    "df_full_train = df_full_train.reset_index(drop=True)\r\n",
    "\r\n",
    "\r\n",
    "# re_defining X variables \r\n",
    "\r\n",
    "dv = DictVectorizer(sparse=False) # turn the dictionary into a vector\r\n",
    "dv.fit(train_dict)\r\n",
    "X_train = dv.transform(train_dict)\r\n",
    "\r\n",
    "\r\n",
    "val_dict = df_val[base_features].to_dict(orient='records')\r\n",
    "X_val = dv.transform(val_dict)\r\n",
    "\r\n",
    "\r\n",
    "\r\n",
    "\r\n",
    "# re_defining target variables\r\n",
    "\r\n",
    "y_train = np.log1p(df_train.price.values)\r\n",
    "y_val = np.log1p(df_val.price.values)\r\n",
    "y_test = np.log1p(df_test.price.values)\r\n",
    "\r\n",
    "\r\n",
    "#Deleting the price column\r\n",
    "\r\n",
    "del df_train['price']\r\n",
    "del df_val['price']\r\n",
    "del df_test['price']\r\n",
    "\r\n"
   ],
   "outputs": [],
   "metadata": {}
  },
  {
   "cell_type": "code",
   "execution_count": 93,
   "source": [
    "y_train\r\n",
    "\r\n"
   ],
   "outputs": [
    {
     "output_type": "execute_result",
     "data": {
      "text/plain": [
       "array([4.60517019, 4.06044301, 4.26267988, ..., 5.70378247, 4.18965474,\n",
       "       4.53259949])"
      ]
     },
     "metadata": {},
     "execution_count": 93
    }
   ],
   "metadata": {}
  },
  {
   "cell_type": "markdown",
   "source": [
    "\r\n",
    "\r\n",
    "<b> <h1>Linear Regression with  sklearn </h1> </b>"
   ],
   "metadata": {}
  },
  {
   "cell_type": "code",
   "execution_count": 94,
   "source": [
    "from sklearn.linear_model import LinearRegression , Ridge\r\n",
    "from sklearn.metrics import mean_squared_error #IMPORT RMSE\r\n",
    "from sklearn.metrics import r2_score\r\n",
    "\r\n",
    "\r\n",
    "\r\n",
    "\r\n",
    "lr = LinearRegression()\r\n",
    "lr.fit(X_train, y_train)\r\n",
    "\r\n"
   ],
   "outputs": [
    {
     "output_type": "execute_result",
     "data": {
      "text/plain": [
       "LinearRegression()"
      ]
     },
     "metadata": {},
     "execution_count": 94
    }
   ],
   "metadata": {}
  },
  {
   "cell_type": "code",
   "execution_count": 95,
   "source": [
    "pred_train_lr= lr.predict(X_train)\r\n",
    "print(\"RMSE:\",np.sqrt(mean_squared_error(y_train,pred_train_lr)))\r\n",
    "print(\"R^2:\",r2_score(y_train, pred_train_lr))\r\n",
    "\r\n"
   ],
   "outputs": [
    {
     "output_type": "stream",
     "name": "stdout",
     "text": [
      "RMSE: 0.5012521583739057\n",
      "R^2: 0.4843032604278058\n"
     ]
    }
   ],
   "metadata": {}
  },
  {
   "cell_type": "code",
   "execution_count": 96,
   "source": [
    "plt.figure(figsize=(6, 4))\r\n",
    "\r\n",
    "sns.histplot(y_train, label='target', color='#222222', alpha=0.6, bins=40)\r\n",
    "sns.histplot(pred_train_lr, label='prediction', color='#aaaaaa', alpha=0.8, bins=40)\r\n",
    "\r\n",
    "plt.legend()\r\n",
    "\r\n",
    "plt.ylabel('Frequency')\r\n",
    "plt.xlabel('Log(Price + 1)')\r\n",
    "plt.title('Predictions vs actual distribution')\r\n",
    "\r\n",
    "plt.show()"
   ],
   "outputs": [
    {
     "output_type": "display_data",
     "data": {
      "image/png": "[encoded data removed]",
      "text/plain": [
       "<Figure size 432x288 with 1 Axes>"
      ]
     },
     "metadata": {
      "needs_background": "light"
     }
    }
   ],
   "metadata": {}
  },
  {
   "cell_type": "code",
   "execution_count": 97,
   "source": [
    "# Ridge Regression\r\n",
    "\r\n",
    "for x in [0, 0.01, 0.1, 1, 10]:\r\n",
    "    print('For ',x,'alpha')\r\n",
    "    rr = Ridge(alpha=x)\r\n",
    "    rr.fit(X_train, y_train) \r\n",
    "    pred_train_rr= rr.predict(X_train)\r\n",
    "    print(round(np.sqrt(mean_squared_error(y_train,pred_train_rr)),3))\r\n",
    "    print(round(np.sqrt(r2_score(y_train, pred_train_rr))),3)\r\n"
   ],
   "outputs": [
    {
     "output_type": "stream",
     "name": "stdout",
     "text": [
      "For  0 alpha\n",
      "0.501\n",
      "1 3\n",
      "For  0.01 alpha\n",
      "0.501\n",
      "1 3\n",
      "For  0.1 alpha\n",
      "0.501\n",
      "1 3\n",
      "For  1 alpha\n",
      "0.501\n",
      "1 3\n",
      "For  10 alpha\n",
      "0.502\n",
      "1 3\n"
     ]
    },
    {
     "output_type": "stream",
     "name": "stderr",
     "text": [
      "C:\\Users\\andre\\AppData\\Local\\Programs\\Python\\Python39\\lib\\site-packages\\sklearn\\linear_model\\_ridge.py:147: LinAlgWarning: Ill-conditioned matrix (rcond=4.74051e-21): result may not be accurate.\n",
      "  return linalg.solve(A, Xy, sym_pos=True,\n"
     ]
    }
   ],
   "metadata": {}
  }
 ],
 "metadata": {
  "orig_nbformat": 4,
  "language_info": {
   "name": "python",
   "version": "3.9.2",
   "mimetype": "text/x-python",
   "codemirror_mode": {
    "name": "ipython",
    "version": 3
   },
   "pygments_lexer": "ipython3",
   "nbconvert_exporter": "python",
   "file_extension": ".py"
  },
  "kernelspec": {
   "name": "python3",
   "display_name": "Python 3.9.2 64-bit"
  },
  "interpreter": {
   "hash": "468f25ad0239460415b7e6b7483d5c8f7213894121f6fb96c4cb6ef93fffe534"
  }
 },
 "nbformat": 4,
 "nbformat_minor": 2
}
